{
 "cells": [
  {
   "cell_type": "markdown",
   "metadata": {},
   "source": [
    "# Automated ML\n",
    "\n",
    "TODO: Import Dependencies. In the cell below, import all the dependencies that you will need to complete the project."
   ]
  },
  {
   "cell_type": "code",
   "execution_count": 1,
   "metadata": {
    "gather": {
     "logged": 1675902725708
    },
    "jupyter": {
     "outputs_hidden": false,
     "source_hidden": false
    },
    "nteract": {
     "transient": {
      "deleting": false
     }
    }
   },
   "outputs": [],
   "source": [
    "import numpy as np\n",
    "import pandas as pd\n",
    "import requests\n",
    "import joblib\n",
    "import json\n",
    "import logging\n",
    "\n",
    "from sklearn.metrics import confusion_matrix\n",
    "from sklearn.utils import resample\n",
    "from sklearn.model_selection import train_test_split\n",
    "\n",
    "\n",
    "from azureml.core.environment import Environment\n",
    "from azureml.core.conda_dependencies import CondaDependencies\n",
    "from azureml.core.experiment import Experiment\n",
    "from azureml.core.workspace import Workspace\n",
    "from azureml.core.dataset import Dataset\n",
    "from azureml.data.dataset_factory import TabularDatasetFactory\n",
    "from azureml.core.compute import AmlCompute\n",
    "from azureml.core.compute import ComputeTarget\n",
    "from azureml.core.compute_target import ComputeTargetException\n",
    "from azureml.core.model import Model\n",
    "from azureml.widgets import RunDetails\n",
    "from azureml.train.automl import AutoMLConfig\n",
    "from azureml.core.webservice import LocalWebservice\n",
    "from azureml.core.webservice import Webservice, AciWebservice\n",
    "from azureml.core.model import InferenceConfig\n",
    "from azureml.automl.core.shared import constants\n"
   ]
  },
  {
   "cell_type": "markdown",
   "metadata": {},
   "source": [
    "## Dataset\n",
    "\n",
    "### Overview\n",
    "\n",
    "The credit approval data is taken from UCI data repository. We will use the data to train the model and predict to approve credit or not.\n",
    "\n",
    "All attribute names and values have been changed to meaningless symbols to protect confidentiality of the data. \n",
    "\n",
    "This dataset is interesting because there is a good mix of attributes -- continuous, nominal with small numbers of values, and nominal with larger numbers of values. There are also a few missing values.\n",
    "\n",
    "Attribute Information:\n",
    "\n",
    "\n",
    "- A1: b, a.\n",
    "- A2: continuous. \n",
    "- A3: continuous. \n",
    "- A4: u, y, l, t. \n",
    "- A5: g, p, gg. \n",
    "- A6: c, d, cc, i, j, k, m, r, q, w, x, e, aa, ff. \n",
    "- A7: v, h, bb, j, n, z, dd, ff, o. \n",
    "- A8: continuous. \n",
    "- A9: t, f. \n",
    "- A10: t, f. \n",
    "- A11: continuous. \n",
    "- A12: t, f. \n",
    "- A13: g, p, s. \n",
    "- A14: continuous. \n",
    "- A15: continuous. \n",
    "- A16: +,- (class attribute)\n",
    "\n",
    "Data has 296 approved and 357 rejected applications.\n",
    "\n",
    "This dataset is public and available for research.\n",
    "Dua, D. and Graff, C. (2019). UCI Machine Learning Repository [http://archive.ics.uci.edu/ml]. Irvine, CA: University of California, School of Information and Computer Science.\n"
   ]
  },
  {
   "cell_type": "code",
   "execution_count": 2,
   "metadata": {
    "gather": {
     "logged": 1675902735845
    }
   },
   "outputs": [],
   "source": [
    "def get_data():\n",
    "    columns = ['A'+str(i) for i in range(1,17)]\n",
    "    df = pd.read_csv('data.csv', header = None, names = columns )\n",
    "    df.dropna(inplace = True)\n",
    "\n",
    "    # Removing Null\n",
    "    for column in df.columns:\n",
    "        df = df[df[column] != '?']\n",
    "\n",
    "    # Converting attributes to binary\n",
    "    df['A16'] = df['A16'].map({'+': 1, '-':0})    \n",
    "    df['A1']  = df['A1'].map({'b': 1, 'a':0})\n",
    "    df['A9']  = df['A9'].map({'t': 1, 'f':0})\n",
    "    df['A10'] = df['A10'].map({'t': 1, 'f':0})\n",
    "    df['A12'] = df['A12'].map({'t': 0, 'f':1})\n",
    "    df['A13'] = df['A13'].map({'g': 'mm', 'p':'kk'})\n",
    "\n",
    "    # Conversting categorical data into onehot encoding\n",
    "    cat_columns = ['A4', 'A5', 'A6', 'A7', 'A13']\n",
    "    for column in cat_columns:\n",
    "        dummies = pd.get_dummies(df[column])\n",
    "        df[dummies.columns] = dummies\n",
    "        df.drop(columns = column,inplace = True)\n",
    "    df = df.astype(float)\n",
    "    df['A16'] = df['A16'].astype(int)\n",
    "    return df"
   ]
  },
  {
   "cell_type": "code",
   "execution_count": 3,
   "metadata": {
    "gather": {
     "logged": 1675902737424
    },
    "jupyter": {
     "outputs_hidden": false,
     "source_hidden": false
    },
    "nteract": {
     "transient": {
      "deleting": false
     }
    }
   },
   "outputs": [],
   "source": [
    "ws = Workspace.from_config()\n",
    "\n",
    "# choose a name for experiment\n",
    "experiment_name = 'credit_automl'\n",
    "\n",
    "experiment=Experiment(ws, experiment_name)"
   ]
  },
  {
   "cell_type": "code",
   "execution_count": 4,
   "metadata": {
    "gather": {
     "logged": 1675902738033
    }
   },
   "outputs": [
    {
     "name": "stdout",
     "output_type": "stream",
     "text": [
      "Located credit_approval_data in Registry.\n"
     ]
    }
   ],
   "source": [
    "dataset_name = 'credit_approval_data'\n",
    "\n",
    "# Check Registry\n",
    "if dataset_name in ws.datasets.keys(): \n",
    "    dataset = ws.datasets[dataset_name] \n",
    "\n",
    "    print(f'Located {dataset_name} in Registry.')\n",
    "\n",
    "# Read from UCI ML Repository\n",
    "else:\n",
    "    df = get_data()\n",
    "    \n",
    "    # Register the dataset\n",
    "    datastore = ws.get_default_datastore()\n",
    "\n",
    "    dataset = Dataset.Tabular.register_pandas_dataframe(\n",
    "        dataframe=df, \n",
    "        name=dataset_name, \n",
    "        description='A dataset of credit approved and rejected applications',\n",
    "        target=datastore\n",
    "    )\n",
    "    "
   ]
  },
  {
   "cell_type": "code",
   "execution_count": 5,
   "metadata": {
    "gather": {
     "logged": 1675902745179
    }
   },
   "outputs": [
    {
     "name": "stdout",
     "output_type": "stream",
     "text": [
      "Validating arguments.\n",
      "Arguments validated.\n",
      "Successfully obtained datastore reference and path.\n",
      "Uploading file to managed-dataset/fce9acc5-f4e2-4b79-a175-4d8587cd7136/\n",
      "Successfully uploaded file to datastore.\n",
      "Creating and registering a new dataset.\n",
      "Successfully created and registered a new dataset.\n"
     ]
    }
   ],
   "source": [
    "# Spliting the DataFrame into training and testing datasets\n",
    "df = get_data()\n",
    "train, test = train_test_split(df, random_state=99, shuffle=True, test_size=0.2)\n",
    "datastore = ws.get_default_datastore()\n",
    "train = Dataset.Tabular.register_pandas_dataframe(\n",
    "        dataframe=train, \n",
    "        name='df_train', \n",
    "        description='training dataset',\n",
    "        target=datastore\n",
    "    )"
   ]
  },
  {
   "cell_type": "markdown",
   "metadata": {},
   "source": [
    "## AutoML Configuration\n",
    "\n",
    "- The experiment_timeout_minutes (20 mins), iterations (50) and enable_early_stopping to reduce time taken for model training. \n",
    "- Enabling early stopping allows the training process to conclude if there is no considerable improvement to the primary_metric.\n",
    "- cross_validations:5 is set to prevent overfitting.\n",
    "- The max_concurrent_iterations: 4 is used to allow jobs to be run in parallel on each node."
   ]
  },
  {
   "cell_type": "code",
   "execution_count": 6,
   "metadata": {
    "gather": {
     "logged": 1675902745490
    },
    "jupyter": {
     "outputs_hidden": false,
     "source_hidden": false
    },
    "nteract": {
     "transient": {
      "deleting": false
     }
    }
   },
   "outputs": [],
   "source": [
    "automl_settings = {\n",
    "    \"experiment_timeout_minutes\":20,\n",
    "    \"enable_early_stopping\":True,    \n",
    "    \"primary_metric\":'accuracy',\n",
    "    \"n_cross_validations\":5,\n",
    "    \"iterations\":50,\n",
    "    \"max_concurrent_iterations\":4,\n",
    "    \"verbosity\": logging.INFO\n",
    "}\n",
    "\n",
    "compute_target = 'ml-compute'\n",
    "\n",
    "automl_config = AutoMLConfig(\n",
    "    compute_target=compute_target, \n",
    "    task='classification', \n",
    "    training_data=train,\n",
    "    label_column_name='A16',\n",
    "    **automl_settings)\n"
   ]
  },
  {
   "cell_type": "code",
   "execution_count": 7,
   "metadata": {
    "gather": {
     "logged": 1675903599258
    },
    "jupyter": {
     "outputs_hidden": false,
     "source_hidden": false
    },
    "nteract": {
     "transient": {
      "deleting": false
     }
    }
   },
   "outputs": [
    {
     "name": "stdout",
     "output_type": "stream",
     "text": [
      "Submitting remote run.\n",
      "No run_configuration provided, running on ml-compute with default configuration\n",
      "Running on remote compute: ml-compute\n"
     ]
    },
    {
     "data": {
      "text/html": [
       "<table style=\"width:100%\"><tr><th>Experiment</th><th>Id</th><th>Type</th><th>Status</th><th>Details Page</th><th>Docs Page</th></tr><tr><td>credit_automl</td><td>AutoML_4c70625d-e9c1-483e-991e-d70b703d9005</td><td>automl</td><td>NotStarted</td><td><a href=\"https://ml.azure.com/runs/AutoML_4c70625d-e9c1-483e-991e-d70b703d9005?wsid=/subscriptions/cdbe0b43-92a0-4715-838a-f2648cc7ad21/resourcegroups/aml-quickstarts-225216/workspaces/quick-starts-ws-225216&amp;tid=660b3398-b80e-49d2-bc5b-ac1dc93b5254\" target=\"_blank\" rel=\"noopener\">Link to Azure Machine Learning studio</a></td><td><a href=\"https://docs.microsoft.com/en-us/python/api/overview/azure/ml/intro?view=azure-ml-py\" target=\"_blank\" rel=\"noopener\">Link to Documentation</a></td></tr></table>"
      ],
      "text/plain": [
       "<IPython.core.display.HTML object>"
      ]
     },
     "metadata": {},
     "output_type": "display_data"
    },
    {
     "name": "stdout",
     "output_type": "stream",
     "text": [
      "\n",
      "Current status: FeaturesGeneration. Generating features for the dataset.\n",
      "Current status: DatasetCrossValidationSplit. Generating individually featurized CV splits.\n",
      "Current status: ModelSelection. Beginning model selection.\n",
      "\n",
      "********************************************************************************************\n",
      "DATA GUARDRAILS: \n",
      "\n",
      "TYPE:         Class balancing detection\n",
      "STATUS:       PASSED\n",
      "DESCRIPTION:  Your inputs were analyzed, and all classes are balanced in your training data.\n",
      "              Learn more about imbalanced data: https://aka.ms/AutomatedMLImbalancedData\n",
      "\n",
      "********************************************************************************************\n",
      "\n",
      "TYPE:         Missing feature values imputation\n",
      "STATUS:       PASSED\n",
      "DESCRIPTION:  No feature missing values were detected in the training data.\n",
      "              Learn more about missing value imputation: https://aka.ms/AutomatedMLFeaturization\n",
      "\n",
      "********************************************************************************************\n",
      "\n",
      "TYPE:         High cardinality feature detection\n",
      "STATUS:       PASSED\n",
      "DESCRIPTION:  Your inputs were analyzed, and no high cardinality features were detected.\n",
      "              Learn more about high cardinality feature handling: https://aka.ms/AutomatedMLFeaturization\n",
      "\n",
      "********************************************************************************************\n",
      "\n",
      "********************************************************************************************\n",
      "ITER: The iteration being evaluated.\n",
      "PIPELINE: A summary description of the pipeline being evaluated.\n",
      "DURATION: Time taken for the current iteration.\n",
      "METRIC: The result of computing score on the fitted pipeline.\n",
      "BEST: The best observed score thus far.\n",
      "********************************************************************************************\n",
      "\n",
      " ITER   PIPELINE                                       DURATION            METRIC      BEST\n",
      "    0   MaxAbsScaler LightGBM                          0:00:13             0.8699    0.8699\n",
      "    1   MaxAbsScaler XGBoostClassifier                 0:00:13             0.8852    0.8852\n",
      "    2   MaxAbsScaler ExtremeRandomTrees                0:00:13             0.8718    0.8852\n",
      "    3   SparseNormalizer XGBoostClassifier             0:00:11             0.8660    0.8852\n",
      "    4   StandardScalerWrapper KNN                      0:00:11             0.7185    0.8852\n",
      "    5   MaxAbsScaler LightGBM                          0:00:14             0.8717    0.8852\n",
      "    6   RobustScaler LogisticRegression                0:00:13             0.8660    0.8852\n",
      "   10   StandardScalerWrapper XGBoostClassifier        0:00:15             0.8545    0.8852\n",
      "    7   MaxAbsScaler LightGBM                          0:00:12             0.8698    0.8852\n",
      "   11   MinMaxScaler RandomForest                      0:00:16             0.8737    0.8852\n",
      "   12   StandardScalerWrapper LogisticRegression       0:00:11             0.8488    0.8852\n",
      "    8   StandardScalerWrapper KNN                      0:00:12             0.7165    0.8852\n",
      "   13   StandardScalerWrapper KNN                      0:00:11             0.8351    0.8852\n",
      "   14   RobustScaler KNN                               0:00:12             0.8429    0.8852\n",
      "   15   MinMaxScaler KNN                               0:00:14             0.8315    0.8852\n",
      "    9   StandardScalerWrapper SVM                      0:00:12             0.8507    0.8852\n",
      "   16   SparseNormalizer KNN                           0:00:13             0.7319    0.8852\n",
      "   17   MaxAbsScaler LogisticRegression                0:00:12             0.8660    0.8852\n",
      "   18   StandardScalerWrapper XGBoostClassifier        0:00:12             0.8737    0.8852\n",
      "   19   StandardScalerWrapper XGBoostClassifier        0:00:12             0.8411    0.8852\n",
      "   21   StandardScalerWrapper XGBoostClassifier        0:00:33             0.8717    0.8852\n",
      "   22   SparseNormalizer RandomForest                  0:00:35             0.8909    0.8909\n",
      "   23   StandardScalerWrapper RandomForest             0:00:30             0.8699    0.8909\n",
      "   24   SparseNormalizer XGBoostClassifier             0:00:32             0.8660    0.8909\n",
      "   25   MaxAbsScaler RandomForest                      0:00:38             0.8718    0.8909\n",
      "   26   SparseNormalizer XGBoostClassifier             0:00:36             0.8775    0.8909\n",
      "   27   SparseNormalizer XGBoostClassifier             0:00:33             0.8718    0.8909\n",
      "   28   StandardScalerWrapper XGBoostClassifier        0:00:33             0.8794    0.8909\n",
      "   29   StandardScalerWrapper LightGBM                 0:00:33             0.8775    0.8909\n",
      "   30   PCA RandomForest                               0:00:37             0.5440    0.8909\n",
      "   31   MaxAbsScaler RandomForest                      0:00:36             0.8756    0.8909\n",
      "   32   SparseNormalizer XGBoostClassifier             0:00:34             0.8871    0.8909\n",
      "   33   StandardScalerWrapper XGBoostClassifier        0:00:31             0.8660    0.8909\n",
      "   20                                                  0:00:00                nan    0.8909\n",
      "   34   StandardScalerWrapper LightGBM                 0:00:33             0.8641    0.8909\n",
      "   35   MinMaxScaler RandomForest                      0:00:35             0.8660    0.8909\n",
      "   36                                                  0:00:00                nan    0.8909\n",
      "   37                                                  0:00:11                nan    0.8909\n",
      "   38    VotingEnsemble                                0:01:12             0.9024    0.9024\n",
      "   39    StackEnsemble                                 0:01:09             0.8852    0.9024\n"
     ]
    }
   ],
   "source": [
    "# TODO: Submit your experiment\n",
    "remote_run = experiment.submit(automl_config, show_output=True)"
   ]
  },
  {
   "cell_type": "markdown",
   "metadata": {},
   "source": [
    "## Run Details\n",
    "\n",
    "OPTIONAL: Write about the different models trained and their performance. Why do you think some models did better than others?\n",
    "\n",
    "TODO: In the cell below, use the `RunDetails` widget to show the different experiments."
   ]
  },
  {
   "cell_type": "code",
   "execution_count": 24,
   "metadata": {
    "gather": {
     "logged": 1675905670222
    },
    "jupyter": {
     "outputs_hidden": false,
     "source_hidden": false
    },
    "nteract": {
     "transient": {
      "deleting": false
     }
    }
   },
   "outputs": [
    {
     "data": {
      "application/vnd.jupyter.widget-view+json": {
       "model_id": "34d3b1d16b5343c3b33075645d9dc19d",
       "version_major": 2,
       "version_minor": 0
      },
      "text/plain": [
       "_AutoMLWidget(widget_settings={'childWidgetDisplay': 'popup', 'send_telemetry': False, 'log_level': 'INFO', 's…"
      ]
     },
     "metadata": {},
     "output_type": "display_data"
    },
    {
     "data": {
      "application/aml.mini.widget.v1": "{\"status\": \"Completed\", \"workbench_run_details_uri\": \"https://ml.azure.com/runs/AutoML_4c70625d-e9c1-483e-991e-d70b703d9005?wsid=/subscriptions/cdbe0b43-92a0-4715-838a-f2648cc7ad21/resourcegroups/aml-quickstarts-225216/workspaces/quick-starts-ws-225216&tid=660b3398-b80e-49d2-bc5b-ac1dc93b5254\", \"run_id\": \"AutoML_4c70625d-e9c1-483e-991e-d70b703d9005\", \"run_properties\": {\"run_id\": \"AutoML_4c70625d-e9c1-483e-991e-d70b703d9005\", \"created_utc\": \"2023-02-09T00:32:27.177499Z\", \"properties\": {\"num_iterations\": \"50\", \"training_type\": \"TrainFull\", \"acquisition_function\": \"EI\", \"primary_metric\": \"accuracy\", \"train_split\": \"0\", \"acquisition_parameter\": \"0\", \"num_cross_validation\": \"5\", \"target\": \"ml-compute\", \"AMLSettingsJsonString\": \"{\\\"path\\\":null,\\\"name\\\":\\\"credit_automl\\\",\\\"subscription_id\\\":\\\"cdbe0b43-92a0-4715-838a-f2648cc7ad21\\\",\\\"resource_group\\\":\\\"aml-quickstarts-225216\\\",\\\"workspace_name\\\":\\\"quick-starts-ws-225216\\\",\\\"region\\\":\\\"southcentralus\\\",\\\"compute_target\\\":\\\"ml-compute\\\",\\\"spark_service\\\":null,\\\"azure_service\\\":\\\"remote\\\",\\\"many_models\\\":false,\\\"pipeline_fetch_max_batch_size\\\":1,\\\"enable_batch_run\\\":true,\\\"enable_parallel_run\\\":false,\\\"num_procs\\\":null,\\\"enable_run_restructure\\\":false,\\\"start_auxiliary_runs_before_parent_complete\\\":false,\\\"enable_code_generation\\\":true,\\\"iterations\\\":50,\\\"primary_metric\\\":\\\"accuracy\\\",\\\"task_type\\\":\\\"classification\\\",\\\"positive_label\\\":null,\\\"data_script\\\":null,\\\"test_size\\\":0.0,\\\"test_include_predictions_only\\\":false,\\\"validation_size\\\":0.0,\\\"n_cross_validations\\\":5,\\\"y_min\\\":null,\\\"y_max\\\":null,\\\"num_classes\\\":null,\\\"featurization\\\":\\\"auto\\\",\\\"_ignore_package_version_incompatibilities\\\":false,\\\"is_timeseries\\\":false,\\\"max_cores_per_iteration\\\":1,\\\"max_concurrent_iterations\\\":4,\\\"iteration_timeout_minutes\\\":null,\\\"mem_in_mb\\\":null,\\\"enforce_time_on_windows\\\":false,\\\"experiment_timeout_minutes\\\":20,\\\"experiment_exit_score\\\":null,\\\"partition_column_names\\\":null,\\\"whitelist_models\\\":null,\\\"blacklist_algos\\\":[\\\"TensorFlowLinearClassifier\\\",\\\"TensorFlowDNN\\\"],\\\"supported_models\\\":[\\\"KNN\\\",\\\"ExtremeRandomTrees\\\",\\\"XGBoostClassifier\\\",\\\"MultinomialNaiveBayes\\\",\\\"SGD\\\",\\\"GradientBoosting\\\",\\\"TabnetClassifier\\\",\\\"RandomForest\\\",\\\"DecisionTree\\\",\\\"TensorFlowDNN\\\",\\\"LinearSVM\\\",\\\"AveragedPerceptronClassifier\\\",\\\"LogisticRegression\\\",\\\"SVM\\\",\\\"TensorFlowLinearClassifier\\\",\\\"BernoulliNaiveBayes\\\",\\\"LightGBM\\\"],\\\"private_models\\\":[],\\\"auto_blacklist\\\":true,\\\"blacklist_samples_reached\\\":false,\\\"exclude_nan_labels\\\":true,\\\"verbosity\\\":20,\\\"_debug_log\\\":\\\"azureml_automl.log\\\",\\\"show_warnings\\\":false,\\\"model_explainability\\\":true,\\\"service_url\\\":null,\\\"sdk_url\\\":null,\\\"sdk_packages\\\":null,\\\"enable_onnx_compatible_models\\\":false,\\\"enable_split_onnx_featurizer_estimator_models\\\":false,\\\"vm_type\\\":\\\"STANDARD_DS3_V2\\\",\\\"telemetry_verbosity\\\":20,\\\"send_telemetry\\\":true,\\\"enable_dnn\\\":false,\\\"scenario\\\":\\\"AutoML\\\",\\\"environment_label\\\":null,\\\"save_mlflow\\\":false,\\\"enable_categorical_indicators\\\":false,\\\"force_text_dnn\\\":false,\\\"enable_feature_sweeping\\\":true,\\\"enable_early_stopping\\\":true,\\\"early_stopping_n_iters\\\":10,\\\"arguments\\\":null,\\\"dataset_id\\\":\\\"1bb407dd-d96c-4c17-8257-d4e1fdffdfa4\\\",\\\"hyperdrive_config\\\":null,\\\"validation_dataset_id\\\":null,\\\"run_source\\\":null,\\\"metrics\\\":null,\\\"enable_metric_confidence\\\":false,\\\"enable_ensembling\\\":true,\\\"enable_stack_ensembling\\\":true,\\\"ensemble_iterations\\\":15,\\\"enable_tf\\\":false,\\\"enable_subsampling\\\":false,\\\"subsample_seed\\\":null,\\\"enable_nimbusml\\\":false,\\\"enable_streaming\\\":false,\\\"force_streaming\\\":false,\\\"track_child_runs\\\":true,\\\"n_best_runs\\\":1,\\\"allowed_private_models\\\":[],\\\"label_column_name\\\":\\\"A16\\\",\\\"weight_column_name\\\":null,\\\"cv_split_column_names\\\":null,\\\"enable_local_managed\\\":false,\\\"_local_managed_run_id\\\":null,\\\"cost_mode\\\":1,\\\"lag_length\\\":0,\\\"metric_operation\\\":\\\"maximize\\\",\\\"preprocess\\\":true}\", \"DataPrepJsonString\": \"{\\\\\\\"training_data\\\\\\\": {\\\\\\\"datasetId\\\\\\\": \\\\\\\"1bb407dd-d96c-4c17-8257-d4e1fdffdfa4\\\\\\\"}, \\\\\\\"datasets\\\\\\\": 0}\", \"EnableSubsampling\": \"False\", \"runTemplate\": \"AutoML\", \"azureml.runsource\": \"automl\", \"display_task_type\": \"classification\", \"dependencies_versions\": \"{\\\"azureml-widgets\\\": \\\"1.48.0\\\", \\\"azureml-training-tabular\\\": \\\"1.48.0\\\", \\\"azureml-train\\\": \\\"1.48.0\\\", \\\"azureml-train-restclients-hyperdrive\\\": \\\"1.48.0\\\", \\\"azureml-train-core\\\": \\\"1.48.0\\\", \\\"azureml-train-automl\\\": \\\"1.48.0\\\", \\\"azureml-train-automl-runtime\\\": \\\"1.48.0\\\", \\\"azureml-train-automl-client\\\": \\\"1.48.0\\\", \\\"azureml-tensorboard\\\": \\\"1.48.0\\\", \\\"azureml-telemetry\\\": \\\"1.48.0\\\", \\\"azureml-sdk\\\": \\\"1.48.0\\\", \\\"azureml-samples\\\": \\\"0+unknown\\\", \\\"azureml-responsibleai\\\": \\\"1.48.0\\\", \\\"azureml-pipeline\\\": \\\"1.48.0\\\", \\\"azureml-pipeline-steps\\\": \\\"1.48.0\\\", \\\"azureml-pipeline-core\\\": \\\"1.48.0\\\", \\\"azureml-opendatasets\\\": \\\"1.48.0\\\", \\\"azureml-mlflow\\\": \\\"1.48.0\\\", \\\"azureml-interpret\\\": \\\"1.48.0\\\", \\\"azureml-inference-server-http\\\": \\\"0.7.7\\\", \\\"azureml-explain-model\\\": \\\"1.48.0\\\", \\\"azureml-defaults\\\": \\\"1.48.0\\\", \\\"azureml-dataset-runtime\\\": \\\"1.48.0\\\", \\\"azureml-dataprep\\\": \\\"4.8.3\\\", \\\"azureml-dataprep-rslex\\\": \\\"2.15.1\\\", \\\"azureml-dataprep-native\\\": \\\"38.0.0\\\", \\\"azureml-datadrift\\\": \\\"1.48.0\\\", \\\"azureml-core\\\": \\\"1.48.0\\\", \\\"azureml-contrib-services\\\": \\\"1.48.0\\\", \\\"azureml-contrib-server\\\": \\\"1.48.0\\\", \\\"azureml-contrib-reinforcementlearning\\\": \\\"1.48.0\\\", \\\"azureml-contrib-pipeline-steps\\\": \\\"1.48.0\\\", \\\"azureml-contrib-notebook\\\": \\\"1.48.0\\\", \\\"azureml-contrib-fairness\\\": \\\"1.48.0\\\", \\\"azureml-contrib-dataset\\\": \\\"1.48.0\\\", \\\"azureml-contrib-automl-pipeline-steps\\\": \\\"1.48.0\\\", \\\"azureml-cli-common\\\": \\\"1.48.0\\\", \\\"azureml-automl-runtime\\\": \\\"1.48.0.post1\\\", \\\"azureml-automl-dnn-nlp\\\": \\\"1.48.0\\\", \\\"azureml-automl-core\\\": \\\"1.48.0\\\", \\\"azureml-accel-models\\\": \\\"1.48.0\\\"}\", \"_aml_system_scenario_identification\": \"Remote.Parent\", \"ClientType\": \"SDK\", \"environment_cpu_name\": \"AzureML-AutoML\", \"environment_cpu_label\": \"prod\", \"environment_gpu_name\": \"AzureML-AutoML-GPU\", \"environment_gpu_label\": \"prod\", \"root_attribution\": \"automl\", \"attribution\": \"AutoML\", \"Orchestrator\": \"AutoML\", \"CancelUri\": \"https://southcentralus.api.azureml.ms/jasmine/v1.0/subscriptions/cdbe0b43-92a0-4715-838a-f2648cc7ad21/resourceGroups/aml-quickstarts-225216/providers/Microsoft.MachineLearningServices/workspaces/quick-starts-ws-225216/experimentids/b45bad67-de2c-4537-b7db-77042abe3827/cancel/AutoML_4c70625d-e9c1-483e-991e-d70b703d9005\", \"ClientSdkVersion\": \"1.48.0.post2\", \"snapshotId\": \"00000000-0000-0000-0000-000000000000\", \"SetupRunId\": \"AutoML_4c70625d-e9c1-483e-991e-d70b703d9005_setup\", \"SetupRunContainerId\": \"dcid.AutoML_4c70625d-e9c1-483e-991e-d70b703d9005_setup\", \"FeaturizationRunJsonPath\": \"featurizer_container.json\", \"FeaturizationRunId\": \"AutoML_4c70625d-e9c1-483e-991e-d70b703d9005_featurize\", \"ProblemInfoJsonString\": \"{\\\"dataset_num_categorical\\\": 0, \\\"is_sparse\\\": false, \\\"subsampling\\\": false, \\\"has_extra_col\\\": true, \\\"dataset_classes\\\": 2, \\\"dataset_features\\\": 39, \\\"dataset_samples\\\": 522, \\\"single_frequency_class_detected\\\": false}\", \"ModelExplainRunId\": \"AutoML_4c70625d-e9c1-483e-991e-d70b703d9005_ModelExplain\"}, \"tags\": {\"model_explain_run\": \"best_run\", \"_aml_system_automl_run_workspace_id\": \"0ef973a0-9ee5-4972-88f4-af0e590b737e\", \"_aml_system_azureml.automlComponent\": \"AutoML\", \"pipeline_id_000\": \"7b422e7b3f86902c2409d5b5d9ff0c84d5dacfee;5dfac790c5c209f98a1da2dc1c7fb76f0397324f;294650ec23bc3d067a4972de7ceb12f6e97260fa;c7af0367625be6ac5c2fecbfc72ed444cb7a2111;ca211529127bb19e1fc933b24b457a03beb5e48e;08e13545f5f7e2df5ef6a66d4110cfd996b1a0e3;3caa818370e5e0c328d6266c359019bd31681270;799d2168db11fc19b9e1c6c1df62f8981ad39fe9;22bffc6cdfb453aa19b0792ec8a8b592bd44dc5b;589334a57221e0720a95cf217c065115a7b841d1;bc4e14e9481990f09b66c70640f3b1c528f584ac;44b5d2d23120dfcf96a7dc6389a293d17a966b1b;35b8e2db3c5f6e714072e1be9f0210fe48426975;628c2351f7c75d74ad3673f2d39af16d6976da2e;ce96746d6f86360fe360023f5ae43340d1986145;3735210984ea10097d5c91905cf6300ac278cd89;2964988f7520e6167bfe42ba2c42ab4a75f8a68c;5304e705d6f401cb07f85bcf0ca59ac1f84dfcf5;5f21d4801ee2a6073890b89985177d37ef49c646;081b692de9e87424d86c2c1d0787b65e098fc386;3fd2e115482e0c7b92aa3297688aefb6c3aa6fb8;1dfdf370ba770047b14bfa59c40920815defcdab;17f87d449bb43aaf3cdae4b7eb6dd6e7fbdaf343;cbbef77cccbd4de8c0d832bcf23c4b1c3448cfe8;c5389315bc5645e218fcf9796a883b6620381fbd;664e966ce723fe972f3a23a912154a68b05d3f1e;1924541703083aa4c316d5ca517a7a548724a00e;aba45721247dc567e11edf980135d00d1af3506f;780bfeaa2e09bd171a72de4cdb7c6d5b8bd791f3;546c563d3bc08774a751196ec9c428627a80230b;b52b9405de8e601dfaf9edc052d06baacdb86480;49432169fe04e8aae4698c6aee8127dffd7c4539;07c04e5cfb4d08357202508bcd67a253426ce902;ae8d4d93457030205355568897f7825fea60992d;a3fdc21e563a842f5148b10ba49213fafd09557e;da45f657e4591caadf1589a85a1f7b8932585595;ffe2dee36b1a25bbc4b512b7611e4d0a9127d962;7bb02834d02ac0ca3dffc19199586d03fe50b140;__AutoML_Stack_Ensemble__;__AutoML_Ensemble__\", \"score\": \"\", \"predicted_cost\": \"\", \"fit_time\": \"\", \"training_percent\": \"\", \"iteration\": \"\", \"run_preprocessor\": \"\", \"run_algorithm\": \"\", \"dynamic_allowlisting_iterations\": \"<25>;<30>;<35>;\", \"_aml_system_azureml.automl_early_exit_message\": \"No scores improved over last 10 iterations, so experiment stopped early. This early stopping behavior can be disabled by setting enable_early_stopping = False in AutoMLConfig for notebook/python SDK runs.\", \"automl_best_child_run_id\": \"AutoML_4c70625d-e9c1-483e-991e-d70b703d9005_38\", \"model_explain_best_run_child_id\": \"AutoML_4c70625d-e9c1-483e-991e-d70b703d9005_38\"}, \"end_time_utc\": \"2023-02-09T00:46:19.512095Z\", \"status\": \"Completed\", \"log_files\": {}, \"log_groups\": [], \"run_duration\": \"0:13:52\", \"run_number\": \"1675902747\", \"run_queued_details\": {\"status\": \"Completed\", \"details\": null}}, \"child_runs\": [{\"run_id\": \"AutoML_4c70625d-e9c1-483e-991e-d70b703d9005_setup\", \"run_number\": 1675902761, \"metric\": null, \"status\": \"Completed\", \"run_type\": \"azureml.scriptrun\", \"training_percent\": null, \"start_time\": \"2023-02-09T00:32:53.588079Z\", \"end_time\": \"2023-02-09T00:33:27.109092Z\", \"created_time\": \"2023-02-09T00:32:41.60355Z\", \"created_time_dt\": \"2023-02-09T00:32:41.60355Z\", \"duration\": \"0:00:45\", \"iteration\": null, \"goal\": null, \"run_name\": \"Completed\", \"run_properties\": null}, {\"run_id\": \"AutoML_4c70625d-e9c1-483e-991e-d70b703d9005_featurize\", \"run_number\": 1675902808, \"metric\": null, \"status\": \"Completed\", \"run_type\": \"automl.featurization\", \"training_percent\": null, \"start_time\": \"2023-02-09T00:33:28.496269Z\", \"end_time\": \"2023-02-09T00:34:16.817642Z\", \"created_time\": \"2023-02-09T00:33:28.217538Z\", \"created_time_dt\": \"2023-02-09T00:33:28.217538Z\", \"duration\": \"0:00:48\", \"iteration\": null, \"goal\": null, \"run_name\": \"Completed\", \"run_properties\": null}, {\"run_id\": \"AutoML_4c70625d-e9c1-483e-991e-d70b703d9005_0\", \"run_number\": 1675902858, \"metric\": null, \"status\": \"Completed\", \"run_type\": null, \"training_percent\": \"100\", \"start_time\": \"2023-02-09T00:34:47.551895Z\", \"end_time\": \"2023-02-09T00:35:00.704785Z\", \"created_time\": \"2023-02-09T00:34:18.363338Z\", \"created_time_dt\": \"2023-02-09T00:34:18.363338Z\", \"duration\": \"0:00:42\", \"iteration\": \"0\", \"goal\": \"accuracy_max\", \"run_name\": \"MaxAbsScaler, LightGBM\", \"run_properties\": \"copy=True\", \"primary_metric\": 0.86990842, \"best_metric\": 0.86990842}, {\"run_id\": \"AutoML_4c70625d-e9c1-483e-991e-d70b703d9005_2\", \"run_number\": 1675902859, \"metric\": null, \"status\": \"Completed\", \"run_type\": null, \"training_percent\": \"100\", \"start_time\": \"2023-02-09T00:35:15.7255Z\", \"end_time\": \"2023-02-09T00:35:29.11072Z\", \"created_time\": \"2023-02-09T00:34:19.366903Z\", \"created_time_dt\": \"2023-02-09T00:34:19.366903Z\", \"duration\": \"0:01:09\", \"iteration\": \"2\", \"goal\": \"accuracy_max\", \"run_name\": \"MaxAbsScaler, ExtremeRandomTrees\", \"run_properties\": \"copy=True\", \"primary_metric\": 0.87181319, \"best_metric\": 0.87181319}, {\"run_id\": \"AutoML_4c70625d-e9c1-483e-991e-d70b703d9005_worker_0\", \"run_number\": 1675902860, \"metric\": null, \"status\": \"Completed\", \"run_type\": \"azureml.scriptrun\", \"training_percent\": null, \"start_time\": \"2023-02-09T00:34:33.558996Z\", \"end_time\": \"2023-02-09T00:36:03.062151Z\", \"created_time\": \"2023-02-09T00:34:20.762868Z\", \"created_time_dt\": \"2023-02-09T00:34:20.762868Z\", \"duration\": \"0:01:42\", \"iteration\": null, \"goal\": null, \"run_name\": \"Completed\", \"run_properties\": null}, {\"run_id\": \"AutoML_4c70625d-e9c1-483e-991e-d70b703d9005_6\", \"run_number\": 1675902861, \"metric\": null, \"status\": \"Completed\", \"run_type\": null, \"training_percent\": \"100\", \"start_time\": \"2023-02-09T00:40:04.131771Z\", \"end_time\": \"2023-02-09T00:40:16.940148Z\", \"created_time\": \"2023-02-09T00:34:21.441584Z\", \"created_time_dt\": \"2023-02-09T00:34:21.441584Z\", \"duration\": \"0:05:55\", \"iteration\": \"6\", \"goal\": \"accuracy_max\", \"run_name\": \"RobustScaler, LogisticRegression\", \"run_properties\": \"copy=True, quantile_range=[10, 90], with_centering=True,\\n             with_scaling=True\", \"primary_metric\": 0.86604396, \"best_metric\": 0.87181319}, {\"run_id\": \"AutoML_4c70625d-e9c1-483e-991e-d70b703d9005_8\", \"run_number\": 1675902862, \"metric\": null, \"status\": \"Completed\", \"run_type\": null, \"training_percent\": \"100\", \"start_time\": \"2023-02-09T00:40:30.685405Z\", \"end_time\": \"2023-02-09T00:40:42.796901Z\", \"created_time\": \"2023-02-09T00:34:22.336862Z\", \"created_time_dt\": \"2023-02-09T00:34:22.336862Z\", \"duration\": \"0:06:20\", \"iteration\": \"8\", \"goal\": \"accuracy_max\", \"run_name\": \"StandardScalerWrapper, KNN\", \"run_properties\": \"copy=True, with_mean=False, with_std=False\", \"primary_metric\": 0.71650183, \"best_metric\": 0.87181319}, {\"run_id\": \"AutoML_4c70625d-e9c1-483e-991e-d70b703d9005_10\", \"run_number\": 1675902863, \"metric\": null, \"status\": \"Completed\", \"run_type\": null, \"training_percent\": \"100\", \"start_time\": \"2023-02-09T00:34:46.834043Z\", \"end_time\": \"2023-02-09T00:35:01.38154Z\", \"created_time\": \"2023-02-09T00:34:23.454142Z\", \"created_time_dt\": \"2023-02-09T00:34:23.454142Z\", \"duration\": \"0:00:37\", \"iteration\": \"10\", \"goal\": \"accuracy_max\", \"run_name\": \"StandardScalerWrapper, XGBoostClassifier\", \"run_properties\": \"copy=True, with_mean=False, with_std=False\", \"primary_metric\": 0.85445055, \"best_metric\": 0.87181319}, {\"run_id\": \"AutoML_4c70625d-e9c1-483e-991e-d70b703d9005_12\", \"run_number\": 1675902864, \"metric\": null, \"status\": \"Completed\", \"run_type\": null, \"training_percent\": \"100\", \"start_time\": \"2023-02-09T00:35:18.403968Z\", \"end_time\": \"2023-02-09T00:35:29.854793Z\", \"created_time\": \"2023-02-09T00:34:24.413683Z\", \"created_time_dt\": \"2023-02-09T00:34:24.413683Z\", \"duration\": \"0:01:05\", \"iteration\": \"12\", \"goal\": \"accuracy_max\", \"run_name\": \"StandardScalerWrapper, LogisticRegression\", \"run_properties\": \"copy=True, with_mean=True, with_std=False\", \"primary_metric\": 0.84875458, \"best_metric\": 0.87181319}, {\"run_id\": \"AutoML_4c70625d-e9c1-483e-991e-d70b703d9005_worker_2\", \"run_number\": 1675902865, \"metric\": null, \"status\": \"Completed\", \"run_type\": \"azureml.scriptrun\", \"training_percent\": null, \"start_time\": \"2023-02-09T00:34:33.558139Z\", \"end_time\": \"2023-02-09T00:36:05.026495Z\", \"created_time\": \"2023-02-09T00:34:25.652206Z\", \"created_time_dt\": \"2023-02-09T00:34:25.652206Z\", \"duration\": \"0:01:39\", \"iteration\": null, \"goal\": null, \"run_name\": \"Completed\", \"run_properties\": null}, {\"run_id\": \"AutoML_4c70625d-e9c1-483e-991e-d70b703d9005_16\", \"run_number\": 1675902866, \"metric\": null, \"status\": \"Completed\", \"run_type\": null, \"training_percent\": \"100\", \"start_time\": \"2023-02-09T00:35:01.303819Z\", \"end_time\": \"2023-02-09T00:35:14.21985Z\", \"created_time\": \"2023-02-09T00:34:26.479012Z\", \"created_time_dt\": \"2023-02-09T00:34:26.479012Z\", \"duration\": \"0:00:47\", \"iteration\": \"16\", \"goal\": \"accuracy_max\", \"run_name\": \"SparseNormalizer, KNN\", \"run_properties\": \"copy=True, norm='max'\", \"primary_metric\": 0.73188645, \"best_metric\": 0.87181319}, {\"run_id\": \"AutoML_4c70625d-e9c1-483e-991e-d70b703d9005_17\", \"run_number\": 1675902867, \"metric\": null, \"status\": \"Completed\", \"run_type\": null, \"training_percent\": \"100\", \"start_time\": \"2023-02-09T00:35:14.859203Z\", \"end_time\": \"2023-02-09T00:35:26.607158Z\", \"created_time\": \"2023-02-09T00:34:27.176933Z\", \"created_time_dt\": \"2023-02-09T00:34:27.176933Z\", \"duration\": \"0:00:59\", \"iteration\": \"17\", \"goal\": \"accuracy_max\", \"run_name\": \"MaxAbsScaler, LogisticRegression\", \"run_properties\": \"copy=True\", \"primary_metric\": 0.86602564, \"best_metric\": 0.87181319}, {\"run_id\": \"AutoML_4c70625d-e9c1-483e-991e-d70b703d9005_worker_3\", \"run_number\": 1675902868, \"metric\": null, \"status\": \"Completed\", \"run_type\": \"azureml.scriptrun\", \"training_percent\": null, \"start_time\": \"2023-02-09T00:34:33.821598Z\", \"end_time\": \"2023-02-09T00:36:01.035201Z\", \"created_time\": \"2023-02-09T00:34:28.492773Z\", \"created_time_dt\": \"2023-02-09T00:34:28.492773Z\", \"duration\": \"0:01:32\", \"iteration\": null, \"goal\": null, \"run_name\": \"Completed\", \"run_properties\": null}, {\"run_id\": \"AutoML_4c70625d-e9c1-483e-991e-d70b703d9005_21\", \"run_number\": 1675903219, \"metric\": null, \"status\": \"Completed\", \"run_type\": \"azureml.scriptrun\", \"training_percent\": \"100\", \"start_time\": \"2023-02-09T00:40:27.071847Z\", \"end_time\": \"2023-02-09T00:41:00.188196Z\", \"created_time\": \"2023-02-09T00:40:19.846899Z\", \"created_time_dt\": \"2023-02-09T00:40:19.846899Z\", \"duration\": \"0:00:40\", \"iteration\": \"21\", \"goal\": \"accuracy_max\", \"run_name\": \"StandardScalerWrapper, XGBoostClassifier\", \"run_properties\": \"copy=True, with_mean=False, with_std=False\", \"primary_metric\": 0.87172161, \"best_metric\": 0.87181319}, {\"run_id\": \"AutoML_4c70625d-e9c1-483e-991e-d70b703d9005_23\", \"run_number\": 1675903262, \"metric\": null, \"status\": \"Completed\", \"run_type\": \"azureml.scriptrun\", \"training_percent\": \"100\", \"start_time\": \"2023-02-09T00:41:16.062902Z\", \"end_time\": \"2023-02-09T00:41:46.405621Z\", \"created_time\": \"2023-02-09T00:41:02.709794Z\", \"created_time_dt\": \"2023-02-09T00:41:02.709794Z\", \"duration\": \"0:00:43\", \"iteration\": \"23\", \"goal\": \"accuracy_max\", \"run_name\": \"StandardScalerWrapper, RandomForest\", \"run_properties\": \"copy=True, with_mean=False, with_std=False\", \"primary_metric\": 0.86985348, \"best_metric\": 0.87181319}, {\"run_id\": \"AutoML_4c70625d-e9c1-483e-991e-d70b703d9005_24\", \"run_number\": 1675903265, \"metric\": null, \"status\": \"Completed\", \"run_type\": \"azureml.scriptrun\", \"training_percent\": \"100\", \"start_time\": \"2023-02-09T00:41:16.139032Z\", \"end_time\": \"2023-02-09T00:41:48.579811Z\", \"created_time\": \"2023-02-09T00:41:05.119938Z\", \"created_time_dt\": \"2023-02-09T00:41:05.119938Z\", \"duration\": \"0:00:43\", \"iteration\": \"24\", \"goal\": \"accuracy_max\", \"run_name\": \"SparseNormalizer, XGBoostClassifier\", \"run_properties\": \"copy=True, norm='l1'\", \"primary_metric\": 0.86602564, \"best_metric\": 0.87181319}, {\"run_id\": \"AutoML_4c70625d-e9c1-483e-991e-d70b703d9005_26\", \"run_number\": 1675903309, \"metric\": null, \"status\": \"Completed\", \"run_type\": \"azureml.scriptrun\", \"training_percent\": \"100\", \"start_time\": \"2023-02-09T00:41:58.960181Z\", \"end_time\": \"2023-02-09T00:42:34.730139Z\", \"created_time\": \"2023-02-09T00:41:49.366679Z\", \"created_time_dt\": \"2023-02-09T00:41:49.366679Z\", \"duration\": \"0:00:45\", \"iteration\": \"26\", \"goal\": \"accuracy_max\", \"run_name\": \"SparseNormalizer, XGBoostClassifier\", \"run_properties\": \"copy=True, norm='l1'\", \"primary_metric\": 0.87747253, \"best_metric\": 0.87747253}, {\"run_id\": \"AutoML_4c70625d-e9c1-483e-991e-d70b703d9005_27\", \"run_number\": 1675903311, \"metric\": null, \"status\": \"Completed\", \"run_type\": \"azureml.scriptrun\", \"training_percent\": \"100\", \"start_time\": \"2023-02-09T00:41:59.114457Z\", \"end_time\": \"2023-02-09T00:42:32.495887Z\", \"created_time\": \"2023-02-09T00:41:51.922863Z\", \"created_time_dt\": \"2023-02-09T00:41:51.922863Z\", \"duration\": \"0:00:40\", \"iteration\": \"27\", \"goal\": \"accuracy_max\", \"run_name\": \"SparseNormalizer, XGBoostClassifier\", \"run_properties\": \"copy=True, norm='l1'\", \"primary_metric\": 0.87175824, \"best_metric\": 0.87747253}, {\"run_id\": \"AutoML_4c70625d-e9c1-483e-991e-d70b703d9005_28\", \"run_number\": 1675903353, \"metric\": null, \"status\": \"Completed\", \"run_type\": \"azureml.scriptrun\", \"training_percent\": \"100\", \"start_time\": \"2023-02-09T00:42:39.927258Z\", \"end_time\": \"2023-02-09T00:43:12.500145Z\", \"created_time\": \"2023-02-09T00:42:33.968956Z\", \"created_time_dt\": \"2023-02-09T00:42:33.968956Z\", \"duration\": \"0:00:38\", \"iteration\": \"28\", \"goal\": \"accuracy_max\", \"run_name\": \"StandardScalerWrapper, XGBoostClassifier\", \"run_properties\": \"copy=True, with_mean=False, with_std=False\", \"primary_metric\": 0.87941392, \"best_metric\": 0.87941392}, {\"run_id\": \"AutoML_4c70625d-e9c1-483e-991e-d70b703d9005_29\", \"run_number\": 1675903356, \"metric\": null, \"status\": \"Completed\", \"run_type\": \"azureml.scriptrun\", \"training_percent\": \"100\", \"start_time\": \"2023-02-09T00:42:41.75163Z\", \"end_time\": \"2023-02-09T00:43:14.781901Z\", \"created_time\": \"2023-02-09T00:42:36.384427Z\", \"created_time_dt\": \"2023-02-09T00:42:36.384427Z\", \"duration\": \"0:00:38\", \"iteration\": \"29\", \"goal\": \"accuracy_max\", \"run_name\": \"StandardScalerWrapper, LightGBM\", \"run_properties\": \"copy=True, with_mean=False, with_std=True\", \"primary_metric\": 0.87745421, \"best_metric\": 0.87941392}, {\"run_id\": \"AutoML_4c70625d-e9c1-483e-991e-d70b703d9005_30\", \"run_number\": 1675903359, \"metric\": null, \"status\": \"Completed\", \"run_type\": \"azureml.scriptrun\", \"training_percent\": \"100\", \"start_time\": \"2023-02-09T00:42:46.411546Z\", \"end_time\": \"2023-02-09T00:43:23.407802Z\", \"created_time\": \"2023-02-09T00:42:39.54613Z\", \"created_time_dt\": \"2023-02-09T00:42:39.54613Z\", \"duration\": \"0:00:43\", \"iteration\": \"30\", \"goal\": \"accuracy_max\", \"run_name\": \"PCA, RandomForest\", \"run_properties\": \"copy=True, iterated_power='auto', n_components=0.3068421052631579,\\n    random_state=None, svd_solver='auto', tol=0.0, whiten=False\", \"primary_metric\": 0.5440293, \"best_metric\": 0.87941392}, {\"run_id\": \"AutoML_4c70625d-e9c1-483e-991e-d70b703d9005_31\", \"run_number\": 1675903394, \"metric\": null, \"status\": \"Completed\", \"run_type\": \"azureml.scriptrun\", \"training_percent\": \"100\", \"start_time\": \"2023-02-09T00:43:22.188445Z\", \"end_time\": \"2023-02-09T00:43:57.977668Z\", \"created_time\": \"2023-02-09T00:43:14.672763Z\", \"created_time_dt\": \"2023-02-09T00:43:14.672763Z\", \"duration\": \"0:00:43\", \"iteration\": \"31\", \"goal\": \"accuracy_max\", \"run_name\": \"MaxAbsScaler, RandomForest\", \"run_properties\": \"copy=True\", \"primary_metric\": 0.8756044, \"best_metric\": 0.87941392}, {\"run_id\": \"AutoML_4c70625d-e9c1-483e-991e-d70b703d9005_32\", \"run_number\": 1675903399, \"metric\": null, \"status\": \"Completed\", \"run_type\": \"azureml.scriptrun\", \"training_percent\": \"100\", \"start_time\": \"2023-02-09T00:43:25.577851Z\", \"end_time\": \"2023-02-09T00:43:59.960365Z\", \"created_time\": \"2023-02-09T00:43:19.160424Z\", \"created_time_dt\": \"2023-02-09T00:43:19.160424Z\", \"duration\": \"0:00:40\", \"iteration\": \"32\", \"goal\": \"accuracy_max\", \"run_name\": \"SparseNormalizer, XGBoostClassifier\", \"run_properties\": \"copy=True, norm='l1'\", \"primary_metric\": 0.88708791, \"best_metric\": 0.88708791}, {\"run_id\": \"AutoML_4c70625d-e9c1-483e-991e-d70b703d9005_33\", \"run_number\": 1675903404, \"metric\": null, \"status\": \"Completed\", \"run_type\": \"azureml.scriptrun\", \"training_percent\": \"100\", \"start_time\": \"2023-02-09T00:43:30.556833Z\", \"end_time\": \"2023-02-09T00:44:02.008929Z\", \"created_time\": \"2023-02-09T00:43:24.909003Z\", \"created_time_dt\": \"2023-02-09T00:43:24.909003Z\", \"duration\": \"0:00:37\", \"iteration\": \"33\", \"goal\": \"accuracy_max\", \"run_name\": \"StandardScalerWrapper, XGBoostClassifier\", \"run_properties\": \"copy=True, with_mean=False, with_std=False\", \"primary_metric\": 0.86602564, \"best_metric\": 0.88708791}, {\"run_id\": \"AutoML_4c70625d-e9c1-483e-991e-d70b703d9005_34\", \"run_number\": 1675903439, \"metric\": null, \"status\": \"Completed\", \"run_type\": \"azureml.scriptrun\", \"training_percent\": \"100\", \"start_time\": \"2023-02-09T00:44:11.013573Z\", \"end_time\": \"2023-02-09T00:44:43.569962Z\", \"created_time\": \"2023-02-09T00:43:59.414828Z\", \"created_time_dt\": \"2023-02-09T00:43:59.414828Z\", \"duration\": \"0:00:44\", \"iteration\": \"34\", \"goal\": \"accuracy_max\", \"run_name\": \"StandardScalerWrapper, LightGBM\", \"run_properties\": \"copy=True, with_mean=False, with_std=False\", \"primary_metric\": 0.86413919, \"best_metric\": 0.88708791}, {\"run_id\": \"AutoML_4c70625d-e9c1-483e-991e-d70b703d9005_35\", \"run_number\": 1675903442, \"metric\": null, \"status\": \"Completed\", \"run_type\": \"azureml.scriptrun\", \"training_percent\": \"100\", \"start_time\": \"2023-02-09T00:44:10.956987Z\", \"end_time\": \"2023-02-09T00:44:45.540393Z\", \"created_time\": \"2023-02-09T00:44:02.662409Z\", \"created_time_dt\": \"2023-02-09T00:44:02.662409Z\", \"duration\": \"0:00:42\", \"iteration\": \"35\", \"goal\": \"accuracy_max\", \"run_name\": \"MinMaxScaler, RandomForest\", \"run_properties\": \"copy=True, feature_range=(0, 1\", \"primary_metric\": 0.86600733, \"best_metric\": 0.88708791}, {\"run_id\": \"AutoML_4c70625d-e9c1-483e-991e-d70b703d9005_36\", \"run_number\": 1675903444, \"metric\": null, \"status\": \"Canceled\", \"run_type\": \"azureml.scriptrun\", \"training_percent\": \"100\", \"start_time\": \"2023-02-09T00:44:47.190271Z\", \"end_time\": \"2023-02-09T00:44:47.329882Z\", \"created_time\": \"2023-02-09T00:44:04.776625Z\", \"created_time_dt\": \"2023-02-09T00:44:04.776625Z\", \"duration\": \"0:00:42\", \"iteration\": \"36\", \"goal\": null, \"run_name\": \"Canceled\", \"run_properties\": null}, {\"run_id\": \"AutoML_4c70625d-e9c1-483e-991e-d70b703d9005_37\", \"run_number\": 1675903485, \"metric\": null, \"status\": \"Canceled\", \"run_type\": \"azureml.scriptrun\", \"training_percent\": \"100\", \"start_time\": \"2023-02-09T00:44:47.303735Z\", \"end_time\": \"2023-02-09T00:44:58.219804Z\", \"created_time\": \"2023-02-09T00:44:45.433226Z\", \"created_time_dt\": \"2023-02-09T00:44:45.433226Z\", \"duration\": \"0:00:12\", \"iteration\": \"37\", \"goal\": \"accuracy_max\", \"run_name\": \"StandardScalerWrapper, XGBoostClassifier\", \"run_properties\": \"copy=True, with_mean=False, with_std=False\", \"primary_metric\": 0.87181319, \"best_metric\": 0.88708791}, {\"run_id\": \"AutoML_4c70625d-e9c1-483e-991e-d70b703d9005_38\", \"run_number\": 1675903499, \"metric\": null, \"status\": \"Completed\", \"run_type\": \"azureml.scriptrun\", \"training_percent\": \"100\", \"start_time\": \"2023-02-09T00:45:04.352193Z\", \"end_time\": \"2023-02-09T00:46:16.096457Z\", \"created_time\": \"2023-02-09T00:44:59.016695Z\", \"created_time_dt\": \"2023-02-09T00:44:59.016695Z\", \"duration\": \"0:01:17\", \"iteration\": \"38\", \"goal\": \"accuracy_max\", \"run_name\": \"VotingEnsemble\", \"run_properties\": \"classification_labels=numpy.array([0, 1]\", \"primary_metric\": 0.90239927, \"best_metric\": 0.90239927}], \"children_metrics\": {\"categories\": [0], \"series\": {\"log_loss\": [{\"categories\": [\"0\", \"2\", \"6\", \"8\", \"10\", \"12\", \"16\", \"17\", \"21\", \"23\", \"24\", \"26\", \"27\", \"28\", \"29\", \"30\", \"31\", \"32\", \"33\", \"34\", \"35\", \"37\", \"38\"], \"mode\": \"markers\", \"name\": \"log_loss\", \"stepped\": false, \"type\": \"scatter\", \"data\": [0.386629461751705, 0.3996875795488174, 0.34133769757617644, 0.8483258511958569, 0.3654450580674825, 0.37221108780130435, 0.7858481419506713, 0.33785374354434294, 0.322391221892599, 0.39396106936678943, 0.4006919216180583, 0.3601685416748866, 0.42157292510195504, 0.6881977443223495, 0.3030221027091219, 0.6800985017960552, 0.37460759569394525, 0.3618817273488293, 0.3380978256964061, 0.31651851405607145, 0.3309108840045987, 0.34002331381870615, 0.3487608996965151]}, {\"categories\": [\"0\", \"2\", \"6\", \"8\", \"10\", \"12\", \"16\", \"17\", \"21\", \"23\", \"24\", \"26\", \"27\", \"28\", \"29\", \"30\", \"31\", \"32\", \"33\", \"34\", \"35\", \"37\", \"38\"], \"mode\": \"lines\", \"name\": \"log_loss_min\", \"stepped\": true, \"type\": \"scatter\", \"data\": [0.386629461751705, 0.386629461751705, 0.34133769757617644, 0.34133769757617644, 0.34133769757617644, 0.34133769757617644, 0.34133769757617644, 0.33785374354434294, 0.322391221892599, 0.322391221892599, 0.322391221892599, 0.322391221892599, 0.322391221892599, 0.322391221892599, 0.3030221027091219, 0.3030221027091219, 0.3030221027091219, 0.3030221027091219, 0.3030221027091219, 0.3030221027091219, 0.3030221027091219, 0.3030221027091219, 0.3030221027091219]}], \"precision_score_weighted\": [{\"categories\": [\"0\", \"2\", \"6\", \"8\", \"10\", \"12\", \"16\", \"17\", \"21\", \"23\", \"24\", \"26\", \"27\", \"28\", \"29\", \"30\", \"31\", \"32\", \"33\", \"34\", \"35\", \"37\", \"38\"], \"mode\": \"markers\", \"name\": \"precision_score_weighted\", \"stepped\": false, \"type\": \"scatter\", \"data\": [0.875423192202905, 0.877741462104154, 0.8732561849178391, 0.7236501017049424, 0.8557069362284084, 0.8584218788725388, 0.7442766782914116, 0.8726308778574614, 0.8772851821933731, 0.8732681064472365, 0.8702188253851062, 0.8801565563686669, 0.8736164933302512, 0.8822539303797546, 0.8816273691812906, 0.39856072725243746, 0.8795578910148139, 0.8899863659250711, 0.8780554851290627, 0.8720005127746366, 0.8751668383849429, 0.8757067794651194, 0.9050706239371443]}, {\"categories\": [\"0\", \"2\", \"6\", \"8\", \"10\", \"12\", \"16\", \"17\", \"21\", \"23\", \"24\", \"26\", \"27\", \"28\", \"29\", \"30\", \"31\", \"32\", \"33\", \"34\", \"35\", \"37\", \"38\"], \"mode\": \"lines\", \"name\": \"precision_score_weighted_max\", \"stepped\": true, \"type\": \"scatter\", \"data\": [0.875423192202905, 0.877741462104154, 0.877741462104154, 0.877741462104154, 0.877741462104154, 0.877741462104154, 0.877741462104154, 0.877741462104154, 0.877741462104154, 0.877741462104154, 0.877741462104154, 0.8801565563686669, 0.8801565563686669, 0.8822539303797546, 0.8822539303797546, 0.8822539303797546, 0.8822539303797546, 0.8899863659250711, 0.8899863659250711, 0.8899863659250711, 0.8899863659250711, 0.8899863659250711, 0.9050706239371443]}], \"AUC_weighted\": [{\"categories\": [\"0\", \"2\", \"6\", \"8\", \"10\", \"12\", \"16\", \"17\", \"21\", \"23\", \"24\", \"26\", \"27\", \"28\", \"29\", \"30\", \"31\", \"32\", \"33\", \"34\", \"35\", \"37\", \"38\"], \"mode\": \"markers\", \"name\": \"AUC_weighted\", \"stepped\": false, \"type\": \"scatter\", \"data\": [0.9383797550723173, 0.9308145239351189, 0.9374256038718206, 0.7844791436568188, 0.9197783056357924, 0.916066808395516, 0.7984358862691591, 0.930785298450061, 0.9389481381389426, 0.9331737334718442, 0.9304880813643628, 0.9320655161003272, 0.9309449818688501, 0.9320348158541998, 0.9413871224920571, 0.6159847952895006, 0.932265376731982, 0.9375874632274297, 0.9298558944223074, 0.9404577529720226, 0.9285637795168638, 0.9349115928854028, 0.9443100281396278]}, {\"categories\": [\"0\", \"2\", \"6\", \"8\", \"10\", \"12\", \"16\", \"17\", \"21\", \"23\", \"24\", \"26\", \"27\", \"28\", \"29\", \"30\", \"31\", \"32\", \"33\", \"34\", \"35\", \"37\", \"38\"], \"mode\": \"lines\", \"name\": \"AUC_weighted_max\", \"stepped\": true, \"type\": \"scatter\", \"data\": [0.9383797550723173, 0.9383797550723173, 0.9383797550723173, 0.9383797550723173, 0.9383797550723173, 0.9383797550723173, 0.9383797550723173, 0.9383797550723173, 0.9389481381389426, 0.9389481381389426, 0.9389481381389426, 0.9389481381389426, 0.9389481381389426, 0.9389481381389426, 0.9413871224920571, 0.9413871224920571, 0.9413871224920571, 0.9413871224920571, 0.9413871224920571, 0.9413871224920571, 0.9413871224920571, 0.9413871224920571, 0.9443100281396278]}], \"f1_score_weighted\": [{\"categories\": [\"0\", \"2\", \"6\", \"8\", \"10\", \"12\", \"16\", \"17\", \"21\", \"23\", \"24\", \"26\", \"27\", \"28\", \"29\", \"30\", \"31\", \"32\", \"33\", \"34\", \"35\", \"37\", \"38\"], \"mode\": \"markers\", \"name\": \"f1_score_weighted\", \"stepped\": false, \"type\": \"scatter\", \"data\": [0.8707756181610881, 0.8726521118974697, 0.8668803779242282, 0.7128676592831503, 0.854612793629084, 0.8495070458943956, 0.7305370506557514, 0.8668023910862772, 0.8724590849704024, 0.8696075455311381, 0.8662952578711952, 0.87756661849074, 0.8717734351978246, 0.8798458975641582, 0.8779537461638871, 0.4455219000033358, 0.8762399957309789, 0.8871565643131646, 0.8669072940765922, 0.8650542551729263, 0.8665852305946629, 0.872491011776299, 0.9026710543703869]}, {\"categories\": [\"0\", \"2\", \"6\", \"8\", \"10\", \"12\", \"16\", \"17\", \"21\", \"23\", \"24\", \"26\", \"27\", \"28\", \"29\", \"30\", \"31\", \"32\", \"33\", \"34\", \"35\", \"37\", \"38\"], \"mode\": \"lines\", \"name\": \"f1_score_weighted_max\", \"stepped\": true, \"type\": \"scatter\", \"data\": [0.8707756181610881, 0.8726521118974697, 0.8726521118974697, 0.8726521118974697, 0.8726521118974697, 0.8726521118974697, 0.8726521118974697, 0.8726521118974697, 0.8726521118974697, 0.8726521118974697, 0.8726521118974697, 0.87756661849074, 0.87756661849074, 0.8798458975641582, 0.8798458975641582, 0.8798458975641582, 0.8798458975641582, 0.8871565643131646, 0.8871565643131646, 0.8871565643131646, 0.8871565643131646, 0.8871565643131646, 0.9026710543703869]}], \"precision_score_macro\": [{\"categories\": [\"0\", \"2\", \"6\", \"8\", \"10\", \"12\", \"16\", \"17\", \"21\", \"23\", \"24\", \"26\", \"27\", \"28\", \"29\", \"30\", \"31\", \"32\", \"33\", \"34\", \"35\", \"37\", \"38\"], \"mode\": \"markers\", \"name\": \"precision_score_macro\", \"stepped\": false, \"type\": \"scatter\", \"data\": [0.8666808805377965, 0.8685352470069118, 0.8635586088236463, 0.7163224859456319, 0.8500228701575816, 0.8489641882018777, 0.7351227304840935, 0.8635808568472199, 0.8683947367825369, 0.8692631727277058, 0.8639134228328338, 0.8750344878653543, 0.869414685417809, 0.87537524994207, 0.8742724089635854, 0.3885578733758299, 0.8713628382755128, 0.8854363077447516, 0.866732904621917, 0.8621067682989256, 0.8659974644925267, 0.8676703964939563, 0.8999629238159503]}, {\"categories\": [\"0\", \"2\", \"6\", \"8\", \"10\", \"12\", \"16\", \"17\", \"21\", \"23\", \"24\", \"26\", \"27\", \"28\", \"29\", \"30\", \"31\", \"32\", \"33\", \"34\", \"35\", \"37\", \"38\"], \"mode\": \"lines\", \"name\": \"precision_score_macro_max\", \"stepped\": true, \"type\": \"scatter\", \"data\": [0.8666808805377965, 0.8685352470069118, 0.8685352470069118, 0.8685352470069118, 0.8685352470069118, 0.8685352470069118, 0.8685352470069118, 0.8685352470069118, 0.8685352470069118, 0.8692631727277058, 0.8692631727277058, 0.8750344878653543, 0.8750344878653543, 0.87537524994207, 0.87537524994207, 0.87537524994207, 0.87537524994207, 0.8854363077447516, 0.8854363077447516, 0.8854363077447516, 0.8854363077447516, 0.8854363077447516, 0.8999629238159503]}], \"matthews_correlation\": [{\"categories\": [\"0\", \"2\", \"6\", \"8\", \"10\", \"12\", \"16\", \"17\", \"21\", \"23\", \"24\", \"26\", \"27\", \"28\", \"29\", \"30\", \"31\", \"32\", \"33\", \"34\", \"35\", \"37\", \"38\"], \"mode\": \"markers\", \"name\": \"matthews_correlation\", \"stepped\": false, \"type\": \"scatter\", \"data\": [0.7387854381326054, 0.7432909803520373, 0.7335627419267003, 0.4199341697497446, 0.7005212579745382, 0.7009948722649557, 0.46229933422737124, 0.7319114305186921, 0.7426314160093371, 0.7339125682163297, 0.7275550398465496, 0.749686125740623, 0.7369230439356199, 0.7544455629301832, 0.7520256154197587, 0.08092620501244847, 0.7481462936534046, 0.7699046398771912, 0.738997588056003, 0.7299770847846447, 0.7350504565538495, 0.7401059498884404, 0.8009939870832745]}, {\"categories\": [\"0\", \"2\", \"6\", \"8\", \"10\", \"12\", \"16\", \"17\", \"21\", \"23\", \"24\", \"26\", \"27\", \"28\", \"29\", \"30\", \"31\", \"32\", \"33\", \"34\", \"35\", \"37\", \"38\"], \"mode\": \"lines\", \"name\": \"matthews_correlation_max\", \"stepped\": true, \"type\": \"scatter\", \"data\": [0.7387854381326054, 0.7432909803520373, 0.7432909803520373, 0.7432909803520373, 0.7432909803520373, 0.7432909803520373, 0.7432909803520373, 0.7432909803520373, 0.7432909803520373, 0.7432909803520373, 0.7432909803520373, 0.749686125740623, 0.749686125740623, 0.7544455629301832, 0.7544455629301832, 0.7544455629301832, 0.7544455629301832, 0.7699046398771912, 0.7699046398771912, 0.7699046398771912, 0.7699046398771912, 0.7699046398771912, 0.8009939870832745]}], \"recall_score_macro\": [{\"categories\": [\"0\", \"2\", \"6\", \"8\", \"10\", \"12\", \"16\", \"17\", \"21\", \"23\", \"24\", \"26\", \"27\", \"28\", \"29\", \"30\", \"31\", \"32\", \"33\", \"34\", \"35\", \"37\", \"38\"], \"mode\": \"markers\", \"name\": \"recall_score_macro\", \"stepped\": false, \"type\": \"scatter\", \"data\": [0.8722110014902968, 0.8748634014642853, 0.8701209913074802, 0.7038655071510271, 0.850536671092908, 0.8521842411357134, 0.7273373375275, 0.8684199921928929, 0.8743294614731945, 0.8647156023584607, 0.8636991941666535, 0.8746827091942861, 0.8675843859940382, 0.8791123823565057, 0.8778397152399476, 0.540904905990295, 0.8768417160254571, 0.8845465127950474, 0.8724263363452666, 0.8679926399669439, 0.869219469712841, 0.8724933550594491, 0.9011168380184564]}, {\"categories\": [\"0\", \"2\", \"6\", \"8\", \"10\", \"12\", \"16\", \"17\", \"21\", \"23\", \"24\", \"26\", \"27\", \"28\", \"29\", \"30\", \"31\", \"32\", \"33\", \"34\", \"35\", \"37\", \"38\"], \"mode\": \"lines\", \"name\": \"recall_score_macro_max\", \"stepped\": true, \"type\": \"scatter\", \"data\": [0.8722110014902968, 0.8748634014642853, 0.8748634014642853, 0.8748634014642853, 0.8748634014642853, 0.8748634014642853, 0.8748634014642853, 0.8748634014642853, 0.8748634014642853, 0.8748634014642853, 0.8748634014642853, 0.8748634014642853, 0.8748634014642853, 0.8791123823565057, 0.8791123823565057, 0.8791123823565057, 0.8791123823565057, 0.8845465127950474, 0.8845465127950474, 0.8845465127950474, 0.8845465127950474, 0.8845465127950474, 0.9011168380184564]}], \"accuracy\": [{\"categories\": [\"0\", \"2\", \"6\", \"8\", \"10\", \"12\", \"16\", \"17\", \"21\", \"23\", \"24\", \"26\", \"27\", \"28\", \"29\", \"30\", \"31\", \"32\", \"33\", \"34\", \"35\", \"37\", \"38\"], \"mode\": \"markers\", \"name\": \"accuracy\", \"stepped\": false, \"type\": \"scatter\", \"data\": [0.8699084249084248, 0.8718131868131866, 0.866043956043956, 0.7165018315018314, 0.8544505494505493, 0.8487545787545787, 0.7318864468864469, 0.8660256410256408, 0.8717216117216118, 0.8698534798534798, 0.8660256410256411, 0.8774725274725274, 0.8717582417582417, 0.8794139194139194, 0.8774542124542124, 0.544029304029304, 0.8756043956043957, 0.887087912087912, 0.8660256410256408, 0.864139194139194, 0.866007326007326, 0.8718131868131869, 0.9023992673992675]}, {\"categories\": [\"0\", \"2\", \"6\", \"8\", \"10\", \"12\", \"16\", \"17\", \"21\", \"23\", \"24\", \"26\", \"27\", \"28\", \"29\", \"30\", \"31\", \"32\", \"33\", \"34\", \"35\", \"37\", \"38\"], \"mode\": \"lines\", \"name\": \"accuracy_max\", \"stepped\": true, \"type\": \"scatter\", \"data\": [0.8699084249084248, 0.8718131868131866, 0.8718131868131866, 0.8718131868131866, 0.8718131868131866, 0.8718131868131866, 0.8718131868131866, 0.8718131868131866, 0.8718131868131866, 0.8718131868131866, 0.8718131868131866, 0.8774725274725274, 0.8774725274725274, 0.8794139194139194, 0.8794139194139194, 0.8794139194139194, 0.8794139194139194, 0.887087912087912, 0.887087912087912, 0.887087912087912, 0.887087912087912, 0.887087912087912, 0.9023992673992675]}], \"f1_score_micro\": [{\"categories\": [\"0\", \"2\", \"6\", \"8\", \"10\", \"12\", \"16\", \"17\", \"21\", \"23\", \"24\", \"26\", \"27\", \"28\", \"29\", \"30\", \"31\", \"32\", \"33\", \"34\", \"35\", \"37\", \"38\"], \"mode\": \"markers\", \"name\": \"f1_score_micro\", \"stepped\": false, \"type\": \"scatter\", \"data\": [0.8699084249084249, 0.8718131868131866, 0.866043956043956, 0.7165018315018314, 0.8544505494505493, 0.8487545787545787, 0.7318864468864469, 0.8660256410256411, 0.8717216117216118, 0.8698534798534798, 0.8660256410256411, 0.8774725274725274, 0.8717582417582417, 0.8794139194139194, 0.8774542124542124, 0.544029304029304, 0.8756043956043957, 0.887087912087912, 0.8660256410256408, 0.864139194139194, 0.866007326007326, 0.8718131868131869, 0.9023992673992675]}, {\"categories\": [\"0\", \"2\", \"6\", \"8\", \"10\", \"12\", \"16\", \"17\", \"21\", \"23\", \"24\", \"26\", \"27\", \"28\", \"29\", \"30\", \"31\", \"32\", \"33\", \"34\", \"35\", \"37\", \"38\"], \"mode\": \"lines\", \"name\": \"f1_score_micro_max\", \"stepped\": true, \"type\": \"scatter\", \"data\": [0.8699084249084249, 0.8718131868131866, 0.8718131868131866, 0.8718131868131866, 0.8718131868131866, 0.8718131868131866, 0.8718131868131866, 0.8718131868131866, 0.8718131868131866, 0.8718131868131866, 0.8718131868131866, 0.8774725274725274, 0.8774725274725274, 0.8794139194139194, 0.8794139194139194, 0.8794139194139194, 0.8794139194139194, 0.887087912087912, 0.887087912087912, 0.887087912087912, 0.887087912087912, 0.887087912087912, 0.9023992673992675]}], \"AUC_macro\": [{\"categories\": [\"0\", \"2\", \"6\", \"8\", \"10\", \"12\", \"16\", \"17\", \"21\", \"23\", \"24\", \"26\", \"27\", \"28\", \"29\", \"30\", \"31\", \"32\", \"33\", \"34\", \"35\", \"37\", \"38\"], \"mode\": \"markers\", \"name\": \"AUC_macro\", \"stepped\": false, \"type\": \"scatter\", \"data\": [0.9383797550723173, 0.9308145239351189, 0.9374256038718206, 0.7844791436568188, 0.9197783056357924, 0.916066808395516, 0.7984358862691591, 0.930785298450061, 0.9389481381389425, 0.9331737334718442, 0.9304880813643628, 0.932065516100327, 0.9309449818688499, 0.9320348158541998, 0.9413871224920574, 0.6159847952895007, 0.9322653767319817, 0.9375874632274297, 0.9298558944223073, 0.9404577529720226, 0.928563779516864, 0.9349115928854028, 0.9443100281396278]}, {\"categories\": [\"0\", \"2\", \"6\", \"8\", \"10\", \"12\", \"16\", \"17\", \"21\", \"23\", \"24\", \"26\", \"27\", \"28\", \"29\", \"30\", \"31\", \"32\", \"33\", \"34\", \"35\", \"37\", \"38\"], \"mode\": \"lines\", \"name\": \"AUC_macro_max\", \"stepped\": true, \"type\": \"scatter\", \"data\": [0.9383797550723173, 0.9383797550723173, 0.9383797550723173, 0.9383797550723173, 0.9383797550723173, 0.9383797550723173, 0.9383797550723173, 0.9383797550723173, 0.9389481381389425, 0.9389481381389425, 0.9389481381389425, 0.9389481381389425, 0.9389481381389425, 0.9389481381389425, 0.9413871224920574, 0.9413871224920574, 0.9413871224920574, 0.9413871224920574, 0.9413871224920574, 0.9413871224920574, 0.9413871224920574, 0.9413871224920574, 0.9443100281396278]}], \"f1_score_macro\": [{\"categories\": [\"0\", \"2\", \"6\", \"8\", \"10\", \"12\", \"16\", \"17\", \"21\", \"23\", \"24\", \"26\", \"27\", \"28\", \"29\", \"30\", \"31\", \"32\", \"33\", \"34\", \"35\", \"37\", \"38\"], \"mode\": \"markers\", \"name\": \"f1_score_macro\", \"stepped\": false, \"type\": \"scatter\", \"data\": [0.86736830160671, 0.8694063525522161, 0.8638706342745607, 0.7027979283644641, 0.8497672350701304, 0.8462218493015732, 0.7236052270241391, 0.8633333991863157, 0.8691805251590349, 0.8649842955997713, 0.8619147422425474, 0.8735790751764689, 0.8675080396510244, 0.876199235264582, 0.8743409729408113, 0.4384585321141808, 0.8726793915272605, 0.8835320676987152, 0.8641500186072584, 0.8617979451055389, 0.8633893149986374, 0.8687311857748089, 0.8993724630951572]}, {\"categories\": [\"0\", \"2\", \"6\", \"8\", \"10\", \"12\", \"16\", \"17\", \"21\", \"23\", \"24\", \"26\", \"27\", \"28\", \"29\", \"30\", \"31\", \"32\", \"33\", \"34\", \"35\", \"37\", \"38\"], \"mode\": \"lines\", \"name\": \"f1_score_macro_max\", \"stepped\": true, \"type\": \"scatter\", \"data\": [0.86736830160671, 0.8694063525522161, 0.8694063525522161, 0.8694063525522161, 0.8694063525522161, 0.8694063525522161, 0.8694063525522161, 0.8694063525522161, 0.8694063525522161, 0.8694063525522161, 0.8694063525522161, 0.8735790751764689, 0.8735790751764689, 0.876199235264582, 0.876199235264582, 0.876199235264582, 0.876199235264582, 0.8835320676987152, 0.8835320676987152, 0.8835320676987152, 0.8835320676987152, 0.8835320676987152, 0.8993724630951572]}], \"recall_score_weighted\": [{\"categories\": [\"0\", \"2\", \"6\", \"8\", \"10\", \"12\", \"16\", \"17\", \"21\", \"23\", \"24\", \"26\", \"27\", \"28\", \"29\", \"30\", \"31\", \"32\", \"33\", \"34\", \"35\", \"37\", \"38\"], \"mode\": \"markers\", \"name\": \"recall_score_weighted\", \"stepped\": false, \"type\": \"scatter\", \"data\": [0.8699084249084248, 0.8718131868131866, 0.866043956043956, 0.7165018315018314, 0.8544505494505493, 0.8487545787545787, 0.7318864468864469, 0.8660256410256408, 0.8717216117216118, 0.8698534798534798, 0.8660256410256411, 0.8774725274725274, 0.8717582417582417, 0.8794139194139194, 0.8774542124542124, 0.544029304029304, 0.8756043956043957, 0.887087912087912, 0.8660256410256408, 0.864139194139194, 0.866007326007326, 0.8718131868131869, 0.9023992673992675]}, {\"categories\": [\"0\", \"2\", \"6\", \"8\", \"10\", \"12\", \"16\", \"17\", \"21\", \"23\", \"24\", \"26\", \"27\", \"28\", \"29\", \"30\", \"31\", \"32\", \"33\", \"34\", \"35\", \"37\", \"38\"], \"mode\": \"lines\", \"name\": \"recall_score_weighted_max\", \"stepped\": true, \"type\": \"scatter\", \"data\": [0.8699084249084248, 0.8718131868131866, 0.8718131868131866, 0.8718131868131866, 0.8718131868131866, 0.8718131868131866, 0.8718131868131866, 0.8718131868131866, 0.8718131868131866, 0.8718131868131866, 0.8718131868131866, 0.8774725274725274, 0.8774725274725274, 0.8794139194139194, 0.8794139194139194, 0.8794139194139194, 0.8794139194139194, 0.887087912087912, 0.887087912087912, 0.887087912087912, 0.887087912087912, 0.887087912087912, 0.9023992673992675]}], \"balanced_accuracy\": [{\"categories\": [\"0\", \"2\", \"6\", \"8\", \"10\", \"12\", \"16\", \"17\", \"21\", \"23\", \"24\", \"26\", \"27\", \"28\", \"29\", \"30\", \"31\", \"32\", \"33\", \"34\", \"35\", \"37\", \"38\"], \"mode\": \"markers\", \"name\": \"balanced_accuracy\", \"stepped\": false, \"type\": \"scatter\", \"data\": [0.8722110014902968, 0.8748634014642853, 0.8701209913074802, 0.7038655071510271, 0.850536671092908, 0.8521842411357134, 0.7273373375275, 0.8684199921928929, 0.8743294614731945, 0.8647156023584607, 0.8636991941666535, 0.8746827091942861, 0.8675843859940382, 0.8791123823565057, 0.8778397152399476, 0.540904905990295, 0.8768417160254571, 0.8845465127950474, 0.8724263363452666, 0.8679926399669439, 0.869219469712841, 0.8724933550594491, 0.9011168380184564]}, {\"categories\": [\"0\", \"2\", \"6\", \"8\", \"10\", \"12\", \"16\", \"17\", \"21\", \"23\", \"24\", \"26\", \"27\", \"28\", \"29\", \"30\", \"31\", \"32\", \"33\", \"34\", \"35\", \"37\", \"38\"], \"mode\": \"lines\", \"name\": \"balanced_accuracy_max\", \"stepped\": true, \"type\": \"scatter\", \"data\": [0.8722110014902968, 0.8748634014642853, 0.8748634014642853, 0.8748634014642853, 0.8748634014642853, 0.8748634014642853, 0.8748634014642853, 0.8748634014642853, 0.8748634014642853, 0.8748634014642853, 0.8748634014642853, 0.8748634014642853, 0.8748634014642853, 0.8791123823565057, 0.8791123823565057, 0.8791123823565057, 0.8791123823565057, 0.8845465127950474, 0.8845465127950474, 0.8845465127950474, 0.8845465127950474, 0.8845465127950474, 0.9011168380184564]}], \"average_precision_score_micro\": [{\"categories\": [\"0\", \"2\", \"6\", \"8\", \"10\", \"12\", \"16\", \"17\", \"21\", \"23\", \"24\", \"26\", \"27\", \"28\", \"29\", \"30\", \"31\", \"32\", \"33\", \"34\", \"35\", \"37\", \"38\"], \"mode\": \"markers\", \"name\": \"average_precision_score_micro\", \"stepped\": false, \"type\": \"scatter\", \"data\": [0.9327594228806719, 0.9246783481261837, 0.9360207297132614, 0.7928324980267412, 0.9083338513523305, 0.9081151817959559, 0.7974600753505499, 0.9269964175149434, 0.9411713034757716, 0.9288949145384586, 0.9232782362068492, 0.9257456852815225, 0.9285693487563312, 0.9233670418290284, 0.9393356666718852, 0.581427536587945, 0.928343663809396, 0.9334568188428403, 0.9209186268012131, 0.9317361798596991, 0.9234050678710691, 0.9297996742770238, 0.9434021307495362]}, {\"categories\": [\"0\", \"2\", \"6\", \"8\", \"10\", \"12\", \"16\", \"17\", \"21\", \"23\", \"24\", \"26\", \"27\", \"28\", \"29\", \"30\", \"31\", \"32\", \"33\", \"34\", \"35\", \"37\", \"38\"], \"mode\": \"lines\", \"name\": \"average_precision_score_micro_max\", \"stepped\": true, \"type\": \"scatter\", \"data\": [0.9327594228806719, 0.9327594228806719, 0.9360207297132614, 0.9360207297132614, 0.9360207297132614, 0.9360207297132614, 0.9360207297132614, 0.9360207297132614, 0.9411713034757716, 0.9411713034757716, 0.9411713034757716, 0.9411713034757716, 0.9411713034757716, 0.9411713034757716, 0.9411713034757716, 0.9411713034757716, 0.9411713034757716, 0.9411713034757716, 0.9411713034757716, 0.9411713034757716, 0.9411713034757716, 0.9411713034757716, 0.9434021307495362]}], \"norm_macro_recall\": [{\"categories\": [\"0\", \"2\", \"6\", \"8\", \"10\", \"12\", \"16\", \"17\", \"21\", \"23\", \"24\", \"26\", \"27\", \"28\", \"29\", \"30\", \"31\", \"32\", \"33\", \"34\", \"35\", \"37\", \"38\"], \"mode\": \"markers\", \"name\": \"norm_macro_recall\", \"stepped\": false, \"type\": \"scatter\", \"data\": [0.7444220029805937, 0.7497268029285706, 0.7402419826149604, 0.40773101430205416, 0.7010733421858157, 0.7043684822714267, 0.454674675055, 0.736839984385786, 0.748658922946389, 0.7294312047169216, 0.727398388333307, 0.7493654183885724, 0.7351687719880766, 0.7582247647130114, 0.7556794304798954, 0.08180981198058994, 0.7536834320509141, 0.769093025590095, 0.7448526726905333, 0.735985279933888, 0.7384389394256823, 0.744986710118898, 0.8022336760369132]}, {\"categories\": [\"0\", \"2\", \"6\", \"8\", \"10\", \"12\", \"16\", \"17\", \"21\", \"23\", \"24\", \"26\", \"27\", \"28\", \"29\", \"30\", \"31\", \"32\", \"33\", \"34\", \"35\", \"37\", \"38\"], \"mode\": \"lines\", \"name\": \"norm_macro_recall_max\", \"stepped\": true, \"type\": \"scatter\", \"data\": [0.7444220029805937, 0.7497268029285706, 0.7497268029285706, 0.7497268029285706, 0.7497268029285706, 0.7497268029285706, 0.7497268029285706, 0.7497268029285706, 0.7497268029285706, 0.7497268029285706, 0.7497268029285706, 0.7497268029285706, 0.7497268029285706, 0.7582247647130114, 0.7582247647130114, 0.7582247647130114, 0.7582247647130114, 0.769093025590095, 0.769093025590095, 0.769093025590095, 0.769093025590095, 0.769093025590095, 0.8022336760369132]}], \"average_precision_score_weighted\": [{\"categories\": [\"0\", \"2\", \"6\", \"8\", \"10\", \"12\", \"16\", \"17\", \"21\", \"23\", \"24\", \"26\", \"27\", \"28\", \"29\", \"30\", \"31\", \"32\", \"33\", \"34\", \"35\", \"37\", \"38\"], \"mode\": \"markers\", \"name\": \"average_precision_score_weighted\", \"stepped\": false, \"type\": \"scatter\", \"data\": [0.9355060447883726, 0.9278102800231831, 0.9362740764163071, 0.794467370304645, 0.9129159405494931, 0.915366957382348, 0.8053704939504087, 0.9285591339066992, 0.9372022922379342, 0.9322172399284481, 0.925141715194064, 0.9252638954207736, 0.9293879636020952, 0.9229810793734441, 0.938421874598688, 0.589980402382883, 0.9302596442056794, 0.9355049821772621, 0.9202777274516658, 0.9368035845628991, 0.9234240133411923, 0.9315212953029484, 0.9437113652458711]}, {\"categories\": [\"0\", \"2\", \"6\", \"8\", \"10\", \"12\", \"16\", \"17\", \"21\", \"23\", \"24\", \"26\", \"27\", \"28\", \"29\", \"30\", \"31\", \"32\", \"33\", \"34\", \"35\", \"37\", \"38\"], \"mode\": \"lines\", \"name\": \"average_precision_score_weighted_max\", \"stepped\": true, \"type\": \"scatter\", \"data\": [0.9355060447883726, 0.9355060447883726, 0.9362740764163071, 0.9362740764163071, 0.9362740764163071, 0.9362740764163071, 0.9362740764163071, 0.9362740764163071, 0.9372022922379342, 0.9372022922379342, 0.9372022922379342, 0.9372022922379342, 0.9372022922379342, 0.9372022922379342, 0.938421874598688, 0.938421874598688, 0.938421874598688, 0.938421874598688, 0.938421874598688, 0.938421874598688, 0.938421874598688, 0.938421874598688, 0.9437113652458711]}], \"precision_score_micro\": [{\"categories\": [\"0\", \"2\", \"6\", \"8\", \"10\", \"12\", \"16\", \"17\", \"21\", \"23\", \"24\", \"26\", \"27\", \"28\", \"29\", \"30\", \"31\", \"32\", \"33\", \"34\", \"35\", \"37\", \"38\"], \"mode\": \"markers\", \"name\": \"precision_score_micro\", \"stepped\": false, \"type\": \"scatter\", \"data\": [0.8699084249084248, 0.8718131868131866, 0.866043956043956, 0.7165018315018314, 0.8544505494505493, 0.8487545787545787, 0.7318864468864469, 0.8660256410256408, 0.8717216117216118, 0.8698534798534798, 0.8660256410256411, 0.8774725274725274, 0.8717582417582417, 0.8794139194139194, 0.8774542124542124, 0.544029304029304, 0.8756043956043957, 0.887087912087912, 0.8660256410256408, 0.864139194139194, 0.866007326007326, 0.8718131868131869, 0.9023992673992675]}, {\"categories\": [\"0\", \"2\", \"6\", \"8\", \"10\", \"12\", \"16\", \"17\", \"21\", \"23\", \"24\", \"26\", \"27\", \"28\", \"29\", \"30\", \"31\", \"32\", \"33\", \"34\", \"35\", \"37\", \"38\"], \"mode\": \"lines\", \"name\": \"precision_score_micro_max\", \"stepped\": true, \"type\": \"scatter\", \"data\": [0.8699084249084248, 0.8718131868131866, 0.8718131868131866, 0.8718131868131866, 0.8718131868131866, 0.8718131868131866, 0.8718131868131866, 0.8718131868131866, 0.8718131868131866, 0.8718131868131866, 0.8718131868131866, 0.8774725274725274, 0.8774725274725274, 0.8794139194139194, 0.8794139194139194, 0.8794139194139194, 0.8794139194139194, 0.887087912087912, 0.887087912087912, 0.887087912087912, 0.887087912087912, 0.887087912087912, 0.9023992673992675]}], \"recall_score_micro\": [{\"categories\": [\"0\", \"2\", \"6\", \"8\", \"10\", \"12\", \"16\", \"17\", \"21\", \"23\", \"24\", \"26\", \"27\", \"28\", \"29\", \"30\", \"31\", \"32\", \"33\", \"34\", \"35\", \"37\", \"38\"], \"mode\": \"markers\", \"name\": \"recall_score_micro\", \"stepped\": false, \"type\": \"scatter\", \"data\": [0.8699084249084248, 0.8718131868131866, 0.866043956043956, 0.7165018315018314, 0.8544505494505493, 0.8487545787545787, 0.7318864468864469, 0.8660256410256408, 0.8717216117216118, 0.8698534798534798, 0.8660256410256411, 0.8774725274725274, 0.8717582417582417, 0.8794139194139194, 0.8774542124542124, 0.544029304029304, 0.8756043956043957, 0.887087912087912, 0.8660256410256408, 0.864139194139194, 0.866007326007326, 0.8718131868131869, 0.9023992673992675]}, {\"categories\": [\"0\", \"2\", \"6\", \"8\", \"10\", \"12\", \"16\", \"17\", \"21\", \"23\", \"24\", \"26\", \"27\", \"28\", \"29\", \"30\", \"31\", \"32\", \"33\", \"34\", \"35\", \"37\", \"38\"], \"mode\": \"lines\", \"name\": \"recall_score_micro_max\", \"stepped\": true, \"type\": \"scatter\", \"data\": [0.8699084249084248, 0.8718131868131866, 0.8718131868131866, 0.8718131868131866, 0.8718131868131866, 0.8718131868131866, 0.8718131868131866, 0.8718131868131866, 0.8718131868131866, 0.8718131868131866, 0.8718131868131866, 0.8774725274725274, 0.8774725274725274, 0.8794139194139194, 0.8794139194139194, 0.8794139194139194, 0.8794139194139194, 0.887087912087912, 0.887087912087912, 0.887087912087912, 0.887087912087912, 0.887087912087912, 0.9023992673992675]}], \"average_precision_score_macro\": [{\"categories\": [\"0\", \"2\", \"6\", \"8\", \"10\", \"12\", \"16\", \"17\", \"21\", \"23\", \"24\", \"26\", \"27\", \"28\", \"29\", \"30\", \"31\", \"32\", \"33\", \"34\", \"35\", \"37\", \"38\"], \"mode\": \"markers\", \"name\": \"average_precision_score_macro\", \"stepped\": false, \"type\": \"scatter\", \"data\": [0.9317571670671828, 0.9247512134149846, 0.9324171192469521, 0.7861876531408276, 0.9070951049714708, 0.9109938405796397, 0.7981652477935208, 0.925514411037831, 0.9326929166906559, 0.9287915539950278, 0.9213134312501479, 0.921641679703104, 0.9271280741746433, 0.9169257755019936, 0.9345278629453502, 0.5774157914335505, 0.9264912565948175, 0.9332414350340699, 0.9158182774902184, 0.934401419082692, 0.9189154915586293, 0.9272749222087979, 0.9419454119187088]}, {\"categories\": [\"0\", \"2\", \"6\", \"8\", \"10\", \"12\", \"16\", \"17\", \"21\", \"23\", \"24\", \"26\", \"27\", \"28\", \"29\", \"30\", \"31\", \"32\", \"33\", \"34\", \"35\", \"37\", \"38\"], \"mode\": \"lines\", \"name\": \"average_precision_score_macro_max\", \"stepped\": true, \"type\": \"scatter\", \"data\": [0.9317571670671828, 0.9317571670671828, 0.9324171192469521, 0.9324171192469521, 0.9324171192469521, 0.9324171192469521, 0.9324171192469521, 0.9324171192469521, 0.9326929166906559, 0.9326929166906559, 0.9326929166906559, 0.9326929166906559, 0.9326929166906559, 0.9326929166906559, 0.9345278629453502, 0.9345278629453502, 0.9345278629453502, 0.9345278629453502, 0.9345278629453502, 0.9345278629453502, 0.9345278629453502, 0.9345278629453502, 0.9419454119187088]}], \"AUC_micro\": [{\"categories\": [\"0\", \"2\", \"6\", \"8\", \"10\", \"12\", \"16\", \"17\", \"21\", \"23\", \"24\", \"26\", \"27\", \"28\", \"29\", \"30\", \"31\", \"32\", \"33\", \"34\", \"35\", \"37\", \"38\"], \"mode\": \"markers\", \"name\": \"AUC_micro\", \"stepped\": false, \"type\": \"scatter\", \"data\": [0.9378927682512848, 0.9309347586174507, 0.9373618725596747, 0.7954912835943057, 0.9187810063867756, 0.9134432033168297, 0.7968572602611064, 0.9343536895034148, 0.9413472792470046, 0.933254387553838, 0.9308312619919763, 0.9332535120557098, 0.9337546995129413, 0.9330867816554628, 0.9431417954755867, 0.6027189181392478, 0.9335364857974747, 0.9391304475439091, 0.9328897341974265, 0.9396362791664989, 0.931000573602222, 0.936602857612473, 0.9474915921990098]}, {\"categories\": [\"0\", \"2\", \"6\", \"8\", \"10\", \"12\", \"16\", \"17\", \"21\", \"23\", \"24\", \"26\", \"27\", \"28\", \"29\", \"30\", \"31\", \"32\", \"33\", \"34\", \"35\", \"37\", \"38\"], \"mode\": \"lines\", \"name\": \"AUC_micro_max\", \"stepped\": true, \"type\": \"scatter\", \"data\": [0.9378927682512848, 0.9378927682512848, 0.9378927682512848, 0.9378927682512848, 0.9378927682512848, 0.9378927682512848, 0.9378927682512848, 0.9378927682512848, 0.9413472792470046, 0.9413472792470046, 0.9413472792470046, 0.9413472792470046, 0.9413472792470046, 0.9413472792470046, 0.9431417954755867, 0.9431417954755867, 0.9431417954755867, 0.9431417954755867, 0.9431417954755867, 0.9431417954755867, 0.9431417954755867, 0.9431417954755867, 0.9474915921990098]}], \"weighted_accuracy\": [{\"categories\": [\"0\", \"2\", \"6\", \"8\", \"10\", \"12\", \"16\", \"17\", \"21\", \"23\", \"24\", \"26\", \"27\", \"28\", \"29\", \"30\", \"31\", \"32\", \"33\", \"34\", \"35\", \"37\", \"38\"], \"mode\": \"markers\", \"name\": \"weighted_accuracy\", \"stepped\": false, \"type\": \"scatter\", \"data\": [0.8680184575245088, 0.869165842982962, 0.8624979698818214, 0.7275614203757054, 0.8580005961865753, 0.8460157589011541, 0.7358402953994642, 0.8639045816053399, 0.8694167279029477, 0.8744094013459055, 0.8681313772176903, 0.8799615556076864, 0.8755904133634136, 0.8796463779677058, 0.8772090412995628, 0.5464087046042094, 0.8744263417373412, 0.8893673100076182, 0.860514042369237, 0.8608893248828338, 0.8633081856922358, 0.8711590192405421, 0.9036463020905654]}, {\"categories\": [\"0\", \"2\", \"6\", \"8\", \"10\", \"12\", \"16\", \"17\", \"21\", \"23\", \"24\", \"26\", \"27\", \"28\", \"29\", \"30\", \"31\", \"32\", \"33\", \"34\", \"35\", \"37\", \"38\"], \"mode\": \"lines\", \"name\": \"weighted_accuracy_max\", \"stepped\": true, \"type\": \"scatter\", \"data\": [0.8680184575245088, 0.869165842982962, 0.869165842982962, 0.869165842982962, 0.869165842982962, 0.869165842982962, 0.869165842982962, 0.869165842982962, 0.8694167279029477, 0.8744094013459055, 0.8744094013459055, 0.8799615556076864, 0.8799615556076864, 0.8799615556076864, 0.8799615556076864, 0.8799615556076864, 0.8799615556076864, 0.8893673100076182, 0.8893673100076182, 0.8893673100076182, 0.8893673100076182, 0.8893673100076182, 0.9036463020905654]}]}, \"metricName\": null, \"primaryMetricName\": \"accuracy\", \"showLegend\": false}, \"run_metrics\": [{\"name\": \"experiment_status\", \"run_id\": \"AutoML_4c70625d-e9c1-483e-991e-d70b703d9005\", \"categories\": [0, 1, 2, 3, 4, 5, 6, 7, 8, 9, 10, 11, 12, 13], \"series\": [{\"data\": [\"DatasetEvaluation\", \"FeaturesGeneration\", \"DatasetFeaturization\", \"DatasetFeaturizationCompleted\", \"DatasetCrossValidationSplit\", \"ModelSelection\", \"BestRunExplainModel\", \"ModelExplanationDataSetSetup\", \"PickSurrogateModel\", \"EngineeredFeatureExplanations\", \"EngineeredFeatureExplanations\", \"RawFeaturesExplanations\", \"RawFeaturesExplanations\", \"BestRunExplainModel\"]}]}, {\"name\": \"experiment_status_description\", \"run_id\": \"AutoML_4c70625d-e9c1-483e-991e-d70b703d9005\", \"categories\": [0, 1, 2, 3, 4, 5, 6, 7, 8, 9, 10, 11, 12, 13], \"series\": [{\"data\": [\"Gathering dataset statistics.\", \"Generating features for the dataset.\", \"Beginning to fit featurizers and featurize the dataset.\", \"Completed fit featurizers and featurizing the dataset.\", \"Generating individually featurized CV splits.\", \"Beginning model selection.\", \"Best run model explanations started\", \"Model explanations data setup completed\", \"Choosing LightGBM as the surrogate model for explanations\", \"Computation of engineered features started\", \"Computation of engineered features completed\", \"Computation of raw features started\", \"Computation of raw features completed\", \"Best run model explanations completed\"]}]}, {\"name\": \"AUC_weighted\", \"run_id\": \"AutoML_4c70625d-e9c1-483e-991e-d70b703d9005\", \"categories\": [0], \"series\": [{\"data\": [0.9443100281396278]}]}, {\"name\": \"log_loss\", \"run_id\": \"AutoML_4c70625d-e9c1-483e-991e-d70b703d9005\", \"categories\": [0], \"series\": [{\"data\": [0.3487608996965151]}]}, {\"name\": \"recall_score_weighted\", \"run_id\": \"AutoML_4c70625d-e9c1-483e-991e-d70b703d9005\", \"categories\": [0], \"series\": [{\"data\": [0.9023992673992675]}]}, {\"name\": \"recall_score_micro\", \"run_id\": \"AutoML_4c70625d-e9c1-483e-991e-d70b703d9005\", \"categories\": [0], \"series\": [{\"data\": [0.9023992673992675]}]}, {\"name\": \"f1_score_weighted\", \"run_id\": \"AutoML_4c70625d-e9c1-483e-991e-d70b703d9005\", \"categories\": [0], \"series\": [{\"data\": [0.9026710543703869]}]}, {\"name\": \"average_precision_score_micro\", \"run_id\": \"AutoML_4c70625d-e9c1-483e-991e-d70b703d9005\", \"categories\": [0], \"series\": [{\"data\": [0.9434021307495362]}]}, {\"name\": \"average_precision_score_weighted\", \"run_id\": \"AutoML_4c70625d-e9c1-483e-991e-d70b703d9005\", \"categories\": [0], \"series\": [{\"data\": [0.9437113652458711]}]}, {\"name\": \"average_precision_score_macro\", \"run_id\": \"AutoML_4c70625d-e9c1-483e-991e-d70b703d9005\", \"categories\": [0], \"series\": [{\"data\": [0.9419454119187088]}]}, {\"name\": \"AUC_micro\", \"run_id\": \"AutoML_4c70625d-e9c1-483e-991e-d70b703d9005\", \"categories\": [0], \"series\": [{\"data\": [0.9474915921990098]}]}, {\"name\": \"precision_score_weighted\", \"run_id\": \"AutoML_4c70625d-e9c1-483e-991e-d70b703d9005\", \"categories\": [0], \"series\": [{\"data\": [0.9050706239371443]}]}, {\"name\": \"norm_macro_recall\", \"run_id\": \"AutoML_4c70625d-e9c1-483e-991e-d70b703d9005\", \"categories\": [0], \"series\": [{\"data\": [0.8022336760369132]}]}, {\"name\": \"balanced_accuracy\", \"run_id\": \"AutoML_4c70625d-e9c1-483e-991e-d70b703d9005\", \"categories\": [0], \"series\": [{\"data\": [0.9011168380184564]}]}, {\"name\": \"recall_score_macro\", \"run_id\": \"AutoML_4c70625d-e9c1-483e-991e-d70b703d9005\", \"categories\": [0], \"series\": [{\"data\": [0.9011168380184564]}]}, {\"name\": \"precision_score_micro\", \"run_id\": \"AutoML_4c70625d-e9c1-483e-991e-d70b703d9005\", \"categories\": [0], \"series\": [{\"data\": [0.9023992673992675]}]}, {\"name\": \"accuracy\", \"run_id\": \"AutoML_4c70625d-e9c1-483e-991e-d70b703d9005\", \"categories\": [0], \"series\": [{\"data\": [0.9023992673992675]}]}, {\"name\": \"AUC_macro\", \"run_id\": \"AutoML_4c70625d-e9c1-483e-991e-d70b703d9005\", \"categories\": [0], \"series\": [{\"data\": [0.9443100281396278]}]}, {\"name\": \"matthews_correlation\", \"run_id\": \"AutoML_4c70625d-e9c1-483e-991e-d70b703d9005\", \"categories\": [0], \"series\": [{\"data\": [0.8009939870832745]}]}, {\"name\": \"f1_score_micro\", \"run_id\": \"AutoML_4c70625d-e9c1-483e-991e-d70b703d9005\", \"categories\": [0], \"series\": [{\"data\": [0.9023992673992675]}]}, {\"name\": \"precision_score_macro\", \"run_id\": \"AutoML_4c70625d-e9c1-483e-991e-d70b703d9005\", \"categories\": [0], \"series\": [{\"data\": [0.8999629238159503]}]}, {\"name\": \"f1_score_macro\", \"run_id\": \"AutoML_4c70625d-e9c1-483e-991e-d70b703d9005\", \"categories\": [0], \"series\": [{\"data\": [0.8993724630951572]}]}, {\"name\": \"weighted_accuracy\", \"run_id\": \"AutoML_4c70625d-e9c1-483e-991e-d70b703d9005\", \"categories\": [0], \"series\": [{\"data\": [0.9036463020905654]}]}], \"run_logs\": \"\\nRun is completed.\", \"graph\": {}, \"widget_settings\": {\"childWidgetDisplay\": \"popup\", \"send_telemetry\": false, \"log_level\": \"INFO\", \"sdk_version\": \"1.48.0\"}, \"loading\": false}"
     },
     "metadata": {},
     "output_type": "display_data"
    }
   ],
   "source": [
    "RunDetails(remote_run).show()"
   ]
  },
  {
   "cell_type": "markdown",
   "metadata": {},
   "source": [
    "## Best Model\n",
    "\n",
    "TODO: In the cell below, get the best model from the automl experiments and display all the properties of the model.\n",
    "\n"
   ]
  },
  {
   "cell_type": "code",
   "execution_count": 9,
   "metadata": {
    "gather": {
     "logged": 1675903633701
    },
    "jupyter": {
     "outputs_hidden": false,
     "source_hidden": false
    },
    "nteract": {
     "transient": {
      "deleting": false
     }
    }
   },
   "outputs": [],
   "source": [
    "status = remote_run.wait_for_completion()\n"
   ]
  },
  {
   "cell_type": "code",
   "execution_count": 12,
   "metadata": {
    "gather": {
     "logged": 1675904120163
    },
    "jupyter": {
     "outputs_hidden": false,
     "source_hidden": false
    },
    "nteract": {
     "transient": {
      "deleting": false
     }
    }
   },
   "outputs": [
    {
     "name": "stdout",
     "output_type": "stream",
     "text": [
      "Best Run: \n",
      "\n",
      "Accuracy: 0.9023992673992675\n",
      "\n",
      "Metrics: {'f1_score_micro': 0.9023992673992675, 'weighted_accuracy': 0.9036463020905654, 'matthews_correlation': 0.8009939870832745, 'precision_score_weighted': 0.9050706239371443, 'accuracy': 0.9023992673992675, 'precision_score_micro': 0.9023992673992675, 'recall_score_weighted': 0.9023992673992675, 'f1_score_macro': 0.8993724630951572, 'f1_score_weighted': 0.9026710543703869, 'average_precision_score_weighted': 0.9437113652458711, 'average_precision_score_micro': 0.9434021307495362, 'AUC_macro': 0.9443100281396278, 'AUC_micro': 0.9474915921990098, 'AUC_weighted': 0.9443100281396278, 'precision_score_macro': 0.8999629238159503, 'recall_score_micro': 0.9023992673992675, 'balanced_accuracy': 0.9011168380184564, 'norm_macro_recall': 0.8022336760369132, 'log_loss': 0.3487608996965151, 'average_precision_score_macro': 0.9419454119187088, 'recall_score_macro': 0.9011168380184564, 'confusion_matrix': 'aml://artifactId/ExperimentRun/dcid.AutoML_4c70625d-e9c1-483e-991e-d70b703d9005_38/confusion_matrix', 'accuracy_table': 'aml://artifactId/ExperimentRun/dcid.AutoML_4c70625d-e9c1-483e-991e-d70b703d9005_38/accuracy_table'}\n",
      "\n",
      "Name: AutoML4c70625de38\n",
      "\n",
      "Tags: {'_aml_system_azureml.automlComponent': 'AutoML', '_aml_system_ComputeTargetStatus': '{\"AllocationState\":\"steady\",\"PreparingNodeCount\":0,\"RunningNodeCount\":0,\"CurrentNodeCount\":1}', 'mlflow.source.type': 'JOB', 'mlflow.source.name': 'automl_driver.py', '_aml_system_codegen': 'completed', '_aml_system_automl_is_child_run_end_telemetry_event_logged': 'True', 'model_explain_run_id': 'AutoML_4c70625d-e9c1-483e-991e-d70b703d9005_ModelExplain', 'model_explanation': 'True'}\n",
      "\n"
     ]
    }
   ],
   "source": [
    "best_run, fitted_model = remote_run.get_output()\n",
    "\n",
    "\n",
    "# Best Run\n",
    "print(\"Best Run: \")\n",
    "print(\"\")\n",
    "\n",
    "# Accuracy\n",
    "print(\"Accuracy: \" + str(best_run.get_metrics()['accuracy']))\n",
    "print(\"\")\n",
    "\n",
    "# Metrics\n",
    "print(\"Metrics: \" + str(best_run.get_metrics()))\n",
    "print(\"\")\n",
    "\n",
    "# Name\n",
    "print(\"Name: \" + str(best_run.properties['model_name']))\n",
    "print(\"\")\n",
    "\n",
    "# Tags\n",
    "print(\"Tags: \" + str(best_run.get_tags()))\n",
    "print(\"\")"
   ]
  },
  {
   "cell_type": "code",
   "execution_count": 15,
   "metadata": {
    "gather": {
     "logged": 1675904164706
    }
   },
   "outputs": [],
   "source": [
    "#Save the best model\n",
    "joblib.dump(fitted_model, filename='automl_best_model.joblib')\n",
    "\n",
    "# Register the best model\n",
    "model_name = best_run.properties['model_name']\n",
    "model = remote_run.register_model(model_name=model_name)\n"
   ]
  },
  {
   "cell_type": "markdown",
   "metadata": {},
   "source": [
    "## Model Deployment\n",
    "\n",
    "Remember you have to deploy only one of the two models you trained but you still need to register both the models. Perform the steps in the rest of this notebook only if you wish to deploy this model.\n",
    "\n",
    "TODO: In the cell below, register the model, create an inference config and deploy the model as a web service."
   ]
  },
  {
   "cell_type": "code",
   "execution_count": 16,
   "metadata": {
    "gather": {
     "logged": 1675904169627
    },
    "jupyter": {
     "outputs_hidden": true,
     "source_hidden": false
    },
    "nteract": {
     "transient": {
      "deleting": false
     }
    }
   },
   "outputs": [
    {
     "data": {
      "text/plain": [
       "['accuracy_table',\n",
       " 'automl_driver.py',\n",
       " 'confusion_matrix',\n",
       " 'explanation/d46091fb/classes.interpret.json',\n",
       " 'explanation/d46091fb/eval_data_viz.interpret.json',\n",
       " 'explanation/d46091fb/expected_values.interpret.json',\n",
       " 'explanation/d46091fb/features.interpret.json',\n",
       " 'explanation/d46091fb/global_names/0.interpret.json',\n",
       " 'explanation/d46091fb/global_rank/0.interpret.json',\n",
       " 'explanation/d46091fb/global_values/0.interpret.json',\n",
       " 'explanation/d46091fb/local_importance_values.interpret.json',\n",
       " 'explanation/d46091fb/per_class_names/0.interpret.json',\n",
       " 'explanation/d46091fb/per_class_rank/0.interpret.json',\n",
       " 'explanation/d46091fb/per_class_values/0.interpret.json',\n",
       " 'explanation/d46091fb/rich_metadata.interpret.json',\n",
       " 'explanation/d46091fb/true_ys_viz.interpret.json',\n",
       " 'explanation/d46091fb/visualization_dict.interpret.json',\n",
       " 'explanation/d46091fb/ys_pred_proba_viz.interpret.json',\n",
       " 'explanation/d46091fb/ys_pred_viz.interpret.json',\n",
       " 'explanation/eabb39a8/classes.interpret.json',\n",
       " 'explanation/eabb39a8/eval_data_viz.interpret.json',\n",
       " 'explanation/eabb39a8/expected_values.interpret.json',\n",
       " 'explanation/eabb39a8/features.interpret.json',\n",
       " 'explanation/eabb39a8/global_names/0.interpret.json',\n",
       " 'explanation/eabb39a8/global_rank/0.interpret.json',\n",
       " 'explanation/eabb39a8/global_values/0.interpret.json',\n",
       " 'explanation/eabb39a8/local_importance_values.interpret.json',\n",
       " 'explanation/eabb39a8/per_class_names/0.interpret.json',\n",
       " 'explanation/eabb39a8/per_class_rank/0.interpret.json',\n",
       " 'explanation/eabb39a8/per_class_values/0.interpret.json',\n",
       " 'explanation/eabb39a8/rich_metadata.interpret.json',\n",
       " 'explanation/eabb39a8/true_ys_viz.interpret.json',\n",
       " 'explanation/eabb39a8/visualization_dict.interpret.json',\n",
       " 'explanation/eabb39a8/ys_pred_proba_viz.interpret.json',\n",
       " 'explanation/eabb39a8/ys_pred_viz.interpret.json',\n",
       " 'logs/azureml/azureml_automl.log',\n",
       " 'outputs/conda_env_v_1_0_0.yml',\n",
       " 'outputs/engineered_feature_names.json',\n",
       " 'outputs/env_dependencies.json',\n",
       " 'outputs/featurization_summary.json',\n",
       " 'outputs/generated_code/conda_environment.yaml',\n",
       " 'outputs/generated_code/script.py',\n",
       " 'outputs/generated_code/script_run_notebook.ipynb',\n",
       " 'outputs/internal_cross_validated_models.pkl',\n",
       " 'outputs/model.pkl',\n",
       " 'outputs/pipeline_graph.json',\n",
       " 'outputs/run_id.txt',\n",
       " 'outputs/scoring_file_pbi_v_1_0_0.py',\n",
       " 'outputs/scoring_file_v_1_0_0.py',\n",
       " 'outputs/scoring_file_v_2_0_0.py',\n",
       " 'system_logs/cs_capability/cs-capability.log',\n",
       " 'system_logs/hosttools_capability/hosttools-capability.log',\n",
       " 'system_logs/lifecycler/execution-wrapper.log',\n",
       " 'system_logs/lifecycler/lifecycler.log',\n",
       " 'system_logs/lifecycler/vm-bootstrapper.log',\n",
       " 'system_logs/metrics_capability/metrics-capability.log',\n",
       " 'system_logs/snapshot_capability/snapshot-capability.log',\n",
       " 'user_logs/std_log.txt']"
      ]
     },
     "execution_count": 16,
     "metadata": {},
     "output_type": "execute_result"
    }
   ],
   "source": [
    "best_run.get_file_names()"
   ]
  },
  {
   "cell_type": "code",
   "execution_count": 17,
   "metadata": {
    "gather": {
     "logged": 1675904222139
    }
   },
   "outputs": [],
   "source": [
    "best_run.download_file('outputs/scoring_file_v_1_0_0.py','score.py')"
   ]
  },
  {
   "cell_type": "code",
   "execution_count": 18,
   "metadata": {
    "gather": {
     "logged": 1675905338246
    },
    "jupyter": {
     "outputs_hidden": false,
     "source_hidden": false
    },
    "nteract": {
     "transient": {
      "deleting": false
     }
    }
   },
   "outputs": [
    {
     "name": "stdout",
     "output_type": "stream",
     "text": [
      "Tips: You can try get_logs(): https://aka.ms/debugimage#dockerlog or local deployment: https://aka.ms/debugimage#debug-locally to debug if deployment takes longer than 10 minutes.\n",
      "Running\n",
      "2023-02-09 00:57:15+00:00 Creating Container Registry if not exists..\n",
      "2023-02-09 01:07:16+00:00 Use the existing image.\n",
      "2023-02-09 01:07:17+00:00 Submitting deployment to compute..\n",
      "2023-02-09 01:07:22+00:00 Checking the status of deployment credit-webservice..\n",
      "2023-02-09 01:09:26+00:00 Checking the status of inference endpoint credit-webservice.\n",
      "Succeeded\n",
      "ACI service creation operation finished, operation \"Succeeded\"\n"
     ]
    }
   ],
   "source": [
    "environment = best_run.get_environment().save_to_directory(path='environment')\n",
    "entry_script= 'score.py'\n",
    "inference_config = InferenceConfig(entry_script = entry_script, environment=environment)\n",
    "deployment_config = AciWebservice.deploy_configuration(cpu_cores=1, memory_gb=1)\n",
    "\n",
    "service = Model.deploy(workspace=ws,\n",
    "                    name=\"credit-webservice\",\n",
    "                    models=[model],\n",
    "                    inference_config=inference_config,\n",
    "                    deployment_config=deployment_config)\n",
    "\n",
    "service.wait_for_deployment(show_output=True)"
   ]
  },
  {
   "cell_type": "markdown",
   "metadata": {
    "collapsed": true,
    "gather": {
     "logged": 1598431657736
    },
    "jupyter": {
     "outputs_hidden": false,
     "source_hidden": false
    },
    "nteract": {
     "transient": {
      "deleting": false
     }
    }
   },
   "source": [
    "TODO: In the cell below, send a request to the web service you deployed to test it."
   ]
  },
  {
   "cell_type": "code",
   "execution_count": 19,
   "metadata": {
    "gather": {
     "logged": 1675905339202
    },
    "jupyter": {
     "outputs_hidden": false,
     "source_hidden": false
    },
    "nteract": {
     "transient": {
      "deleting": false
     }
    }
   },
   "outputs": [
    {
     "name": "stdout",
     "output_type": "stream",
     "text": [
      "http://964115c1-61c1-4586-8597-376db82ab1ec.southcentralus.azurecontainer.io/score\n",
      "{\"data\": [{\"A1\": 1, \"A2\": 29.58, \"A3\": 4.5, \"A8\": 7.5, \"A9\": 1, \"A10\": 1, \"A11\": 2, \"A12\": 0, \"A14\": 330, \"A15\": 0, \"l\": 0, \"u\": 1, \"y\": 0, \"g\": 1, \"gg\": 0, \"p\": 0, \"aa\": 0, \"c\": 0, \"cc\": 0, \"d\": 0, \"e\": 0, \"ff\": 0, \"i\": 0, \"j\": 0, \"k\": 0, \"m\": 0, \"q\": 0, \"r\": 0, \"w\": 1, \"x\": 0, \"bb\": 0, \"dd\": 0, \"h\": 0, \"n\": 0, \"o\": 0, \"v\": 1, \"z\": 0, \"kk\": 0, \"mm\": 1}]}\n",
      "{\"result\": [1]}\n",
      "{\"data\": [{\"A1\": 1, \"A2\": 27.42, \"A3\": 12.5, \"A8\": 0.25, \"A9\": 0, \"A10\": 0, \"A11\": 0, \"A12\": 0, \"A14\": 720, \"A15\": 0, \"l\": 0, \"u\": 1, \"y\": 0, \"g\": 1, \"gg\": 0, \"p\": 0, \"aa\": 1, \"c\": 0, \"cc\": 0, \"d\": 0, \"e\": 0, \"ff\": 0, \"i\": 0, \"j\": 0, \"k\": 0, \"m\": 0, \"q\": 0, \"r\": 0, \"w\": 0, \"x\": 0, \"bb\": 1, \"dd\": 0, \"h\": 0, \"n\": 0, \"o\": 0, \"v\": 0, \"z\": 0, \"kk\": 0, \"mm\": 1}]}\n",
      "{\"result\": [0]}\n"
     ]
    }
   ],
   "source": [
    "url = service.scoring_uri\n",
    "print(url)\n",
    "\n",
    "test_payloads = [\n",
    "    {\n",
    "            \"A1\": 1,\n",
    "            \"A2\": 29.58,\n",
    "            \"A3\": 4.5,\n",
    "            \"A8\": 7.5,\n",
    "            \"A9\": 1,\n",
    "            \"A10\": 1,\n",
    "            \"A11\": 2,\n",
    "            \"A12\": 0,\n",
    "            \"A14\": 330,\n",
    "            \"A15\": 0,\n",
    "            \"l\": 0,\n",
    "            \"u\": 1,\n",
    "            \"y\": 0,\n",
    "            \"g\": 1,\n",
    "            \"gg\": 0,\n",
    "            \"p\": 0,\n",
    "            \"aa\": 0,\n",
    "            \"c\": 0,\n",
    "            \"cc\": 0,\n",
    "            \"d\": 0,\n",
    "            \"e\": 0,\n",
    "            \"ff\": 0,\n",
    "            \"i\": 0,\n",
    "            \"j\": 0,\n",
    "            \"k\": 0,\n",
    "            \"m\": 0,\n",
    "            \"q\": 0,\n",
    "            \"r\": 0,\n",
    "            \"w\": 1,\n",
    "            \"x\": 0,\n",
    "            \"bb\": 0,\n",
    "            \"dd\": 0,\n",
    "            \"h\": 0,\n",
    "            \"n\": 0,\n",
    "            \"o\": 0,\n",
    "            \"v\": 1,\n",
    "            \"z\": 0,\n",
    "            \"kk\": 0,\n",
    "            \"mm\": 1\n",
    "    },\n",
    "    {\n",
    "            \"A1\": 1,\n",
    "            \"A2\": 27.42,\n",
    "            \"A3\": 12.5,\n",
    "            \"A8\": 0.25,\n",
    "            \"A9\": 0,\n",
    "            \"A10\": 0,\n",
    "            \"A11\": 0,\n",
    "            \"A12\": 0,\n",
    "            \"A14\": 720,\n",
    "            \"A15\": 0,\n",
    "            \"l\": 0,\n",
    "            \"u\": 1,\n",
    "            \"y\": 0,\n",
    "            \"g\": 1,\n",
    "            \"gg\": 0,\n",
    "            \"p\": 0,\n",
    "            \"aa\": 1,\n",
    "            \"c\": 0,\n",
    "            \"cc\": 0,\n",
    "            \"d\": 0,\n",
    "            \"e\": 0,\n",
    "            \"ff\": 0,\n",
    "            \"i\": 0,\n",
    "            \"j\": 0,\n",
    "            \"k\": 0,\n",
    "            \"m\": 0,\n",
    "            \"q\": 0,\n",
    "            \"r\": 0,\n",
    "            \"w\": 0,\n",
    "            \"x\": 0,\n",
    "            \"bb\": 1,\n",
    "            \"dd\": 0,\n",
    "            \"h\": 0,\n",
    "            \"n\": 0,\n",
    "            \"o\": 0,\n",
    "            \"v\": 0,\n",
    "            \"z\": 0,\n",
    "            \"kk\": 0,\n",
    "            \"mm\": 1\n",
    "    }\n",
    "]\n",
    "\n",
    "for payload in test_payloads:\n",
    "\n",
    "    test_payload = {\"data\":[payload]}\n",
    "    input_data = json.dumps(test_payload)\n",
    "    print(input_data)\n",
    "\n",
    "    output = requests.post(url, input_data, headers={'Content-Type': 'application/json'})\n",
    "    print(output.json())"
   ]
  },
  {
   "cell_type": "markdown",
   "metadata": {
    "collapsed": true,
    "gather": {
     "logged": 1598432765711
    },
    "jupyter": {
     "outputs_hidden": false,
     "source_hidden": false
    },
    "nteract": {
     "transient": {
      "deleting": false
     }
    }
   },
   "source": [
    "TODO: In the cell below, print the logs of the web service and delete the service"
   ]
  },
  {
   "cell_type": "code",
   "execution_count": 20,
   "metadata": {
    "gather": {
     "logged": 1675905470689
    },
    "jupyter": {
     "outputs_hidden": false,
     "source_hidden": false
    },
    "nteract": {
     "transient": {
      "deleting": false
     }
    }
   },
   "outputs": [
    {
     "name": "stderr",
     "output_type": "stream",
     "text": [
      "WARNING:urllib3.connectionpool:Retrying (Retry(total=2, connect=2, read=3, redirect=None, status=None)) after connection broken by 'ConnectTimeoutError(<urllib3.connection.HTTPSConnection object at 0x7ff7aadd3b50>, 'Connection to southcentralus.experiments.azureml.net timed out. (connect timeout=100)')': /history/v1.0/subscriptions/cdbe0b43-92a0-4715-838a-f2648cc7ad21/resourceGroups/aml-quickstarts-225216/providers/Microsoft.MachineLearningServices/workspaces/quick-starts-ws-225216/experimentids/b45bad67-de2c-4537-b7db-77042abe3827/runs/AutoML_4c70625d-e9c1-483e-991e-d70b703d9005\n",
      "WARNING:urllib3.connectionpool:Retrying (Retry(total=2, connect=2, read=3, redirect=None, status=None)) after connection broken by 'ConnectTimeoutError(<urllib3.connection.HTTPSConnection object at 0x7ff7aaec8160>, 'Connection to southcentralus.experiments.azureml.net timed out. (connect timeout=100)')': /history/v1.0/subscriptions/cdbe0b43-92a0-4715-838a-f2648cc7ad21/resourceGroups/aml-quickstarts-225216/providers/Microsoft.MachineLearningServices/workspaces/quick-starts-ws-225216/experimentids/b45bad67-de2c-4537-b7db-77042abe3827/runs/AutoML_4c70625d-e9c1-483e-991e-d70b703d9005\n",
      "WARNING:urllib3.connectionpool:Retrying (Retry(total=2, connect=2, read=3, redirect=None, status=None)) after connection broken by 'ConnectTimeoutError(<urllib3.connection.HTTPSConnection object at 0x7ff7aae2f280>, 'Connection to southcentralus.experiments.azureml.net timed out. (connect timeout=100)')': /history/v1.0/subscriptions/cdbe0b43-92a0-4715-838a-f2648cc7ad21/resourceGroups/aml-quickstarts-225216/providers/Microsoft.MachineLearningServices/workspaces/quick-starts-ws-225216/experiments/credit_automl/metrics:query?mergestrategytype=None\n",
      "WARNING:urllib3.connectionpool:Retrying (Retry(total=1, connect=1, read=3, redirect=None, status=None)) after connection broken by 'ConnectTimeoutError(<urllib3.connection.HTTPSConnection object at 0x7ff7aadf0be0>, 'Connection to southcentralus.experiments.azureml.net timed out. (connect timeout=100)')': /history/v1.0/subscriptions/cdbe0b43-92a0-4715-838a-f2648cc7ad21/resourceGroups/aml-quickstarts-225216/providers/Microsoft.MachineLearningServices/workspaces/quick-starts-ws-225216/experimentids/b45bad67-de2c-4537-b7db-77042abe3827/runs/AutoML_4c70625d-e9c1-483e-991e-d70b703d9005\n",
      "WARNING:urllib3.connectionpool:Retrying (Retry(total=1, connect=1, read=3, redirect=None, status=None)) after connection broken by 'ConnectTimeoutError(<urllib3.connection.HTTPSConnection object at 0x7ff7aadf08b0>, 'Connection to southcentralus.experiments.azureml.net timed out. (connect timeout=100)')': /history/v1.0/subscriptions/cdbe0b43-92a0-4715-838a-f2648cc7ad21/resourceGroups/aml-quickstarts-225216/providers/Microsoft.MachineLearningServices/workspaces/quick-starts-ws-225216/experimentids/b45bad67-de2c-4537-b7db-77042abe3827/runs/AutoML_4c70625d-e9c1-483e-991e-d70b703d9005\n",
      "WARNING:urllib3.connectionpool:Retrying (Retry(total=2, connect=2, read=3, redirect=None, status=None)) after connection broken by 'ConnectTimeoutError(<urllib3.connection.HTTPSConnection object at 0x7ff7ab05f130>, 'Connection to southcentralus.experiments.azureml.net timed out. (connect timeout=100)')': /history/v1.0/subscriptions/cdbe0b43-92a0-4715-838a-f2648cc7ad21/resourceGroups/aml-quickstarts-225216/providers/Microsoft.MachineLearningServices/workspaces/quick-starts-ws-225216/experimentids/b45bad67-de2c-4537-b7db-77042abe3827/runs/AutoML_4c70625d-e9c1-483e-991e-d70b703d9005\n"
     ]
    },
    {
     "name": "stdout",
     "output_type": "stream",
     "text": [
      "2023-02-09T01:09:15,393255500+00:00 - rsyslog/run \n",
      "2023-02-09T01:09:15,392776200+00:00 - iot-server/run \n",
      "2023-02-09T01:09:15,401935300+00:00 - gunicorn/run \n",
      "2023-02-09T01:09:15,404157400+00:00 | gunicorn/run | \n",
      "2023-02-09T01:09:15,410723300+00:00 | gunicorn/run | ###############################################\n",
      "2023-02-09T01:09:15,413012900+00:00 | gunicorn/run | AzureML Container Runtime Information\n",
      "2023-02-09T01:09:15,419517600+00:00 | gunicorn/run | ###############################################\n",
      "2023-02-09T01:09:15,421969600+00:00 | gunicorn/run | \n",
      "2023-02-09T01:09:15,434857300+00:00 - nginx/run \n",
      "2023-02-09T01:09:15,437778100+00:00 | gunicorn/run | \n",
      "2023-02-09T01:09:15,452772600+00:00 | gunicorn/run | AzureML image information: openmpi4.1.0-ubuntu20.04, Materializaton Build:20230120.v2\n",
      "2023-02-09T01:09:15,458755900+00:00 | gunicorn/run | \n",
      "2023-02-09T01:09:15,469358300+00:00 | gunicorn/run | \n",
      "2023-02-09T01:09:15,474262800+00:00 | gunicorn/run | PATH environment variable: /azureml-envs/azureml_339aac991804a6fc1abdc6b4bd0e857e/bin:/opt/miniconda/bin:/usr/local/sbin:/usr/local/bin:/usr/sbin:/usr/bin:/sbin:/bin\n",
      "2023-02-09T01:09:15,478891100+00:00 | gunicorn/run | PYTHONPATH environment variable: \n",
      "2023-02-09T01:09:15,481299500+00:00 | gunicorn/run | \n",
      "2023-02-09T01:09:15,490161900+00:00 | gunicorn/run | Pip Dependencies (before dynamic installation)\n",
      "\n",
      "EdgeHubConnectionString and IOTEDGE_IOTHUBHOSTNAME are not set. Exiting...\n",
      "2023-02-09T01:09:15,986706500+00:00 - iot-server/finish 1 0\n",
      "2023-02-09T01:09:15,989486000+00:00 - Exit code 1 is normal. Not restarting iot-server.\n",
      "adal==1.2.7\n",
      "appdirs @ file:///home/conda/feedstock_root/build_artifacts/appdirs_1603108395799/work\n",
      "applicationinsights==0.11.10\n",
      "argcomplete==2.0.0\n",
      "arviz @ file:///home/conda/feedstock_root/build_artifacts/arviz_1666645025910/work\n",
      "asttokens==2.2.1\n",
      "attrs==22.2.0\n",
      "azure-common==1.1.28\n",
      "azure-core==1.26.2\n",
      "azure-graphrbac==0.61.1\n",
      "azure-identity==1.12.0\n",
      "azure-mgmt-authorization==3.0.0\n",
      "azure-mgmt-containerregistry==10.0.0\n",
      "azure-mgmt-core==1.3.2\n",
      "azure-mgmt-keyvault==10.1.0\n",
      "azure-mgmt-resource==21.2.1\n",
      "azure-mgmt-storage==20.1.0\n",
      "azure-storage-blob==12.13.0\n",
      "azure-storage-queue==12.5.0\n",
      "azureml-automl-core==1.48.0\n",
      "azureml-automl-runtime==1.48.0.post2\n",
      "azureml-core==1.48.0\n",
      "azureml-dataprep==4.8.6\n",
      "azureml-dataprep-native==38.0.0\n",
      "azureml-dataprep-rslex==2.15.2\n",
      "azureml-dataset-runtime==1.48.0\n",
      "azureml-defaults==1.48.0\n",
      "azureml-inference-server-http==0.7.7\n",
      "azureml-interpret==1.48.0\n",
      "azureml-mlflow==1.48.0\n",
      "azureml-pipeline-core==1.48.0\n",
      "azureml-responsibleai==1.48.0\n",
      "azureml-telemetry==1.48.0\n",
      "azureml-train-automl-client==1.48.0\n",
      "azureml-train-automl-runtime==1.48.0.post2\n",
      "azureml-train-core==1.48.0\n",
      "azureml-train-restclients-hyperdrive==1.48.0\n",
      "azureml-training-tabular==1.48.0\n",
      "backcall==0.2.0\n",
      "backports.tempfile==1.0\n",
      "backports.weakref==1.0.post1\n",
      "bcrypt==4.0.1\n",
      "blinker @ file:///home/conda/feedstock_root/build_artifacts/blinker_1664823096650/work\n",
      "bokeh==2.4.3\n",
      "boto==2.49.0\n",
      "boto3 @ file:///home/conda/feedstock_root/build_artifacts/boto3_1602889982367/work\n",
      "botocore @ file:///home/conda/feedstock_root/build_artifacts/botocore_1602884371056/work\n",
      "brotlipy @ file:///home/conda/feedstock_root/build_artifacts/brotlipy_1666764652625/work\n",
      "cachetools==5.3.0\n",
      "certifi==2022.12.7\n",
      "cffi @ file:///home/conda/feedstock_root/build_artifacts/cffi_1671179356964/work\n",
      "cftime @ file:///home/conda/feedstock_root/build_artifacts/cftime_1666833813766/work\n",
      "charset-normalizer @ file:///home/conda/feedstock_root/build_artifacts/charset-normalizer_1661170624537/work\n",
      "click @ file:///home/conda/feedstock_root/build_artifacts/click_1645238082580/work\n",
      "cloudpickle @ file:///home/conda/feedstock_root/build_artifacts/cloudpickle_1598400192773/work\n",
      "colorama @ file:///home/conda/feedstock_root/build_artifacts/colorama_1666700638685/work\n",
      "configparser @ file:///home/conda/feedstock_root/build_artifacts/configparser_1660952164778/work\n",
      "contextlib2==21.6.0\n",
      "contourpy @ file:///home/conda/feedstock_root/build_artifacts/contourpy_1673633650729/work\n",
      "convertdate @ file:///home/conda/feedstock_root/build_artifacts/convertdate_1642883757836/work\n",
      "cryptography @ file:///home/conda/feedstock_root/build_artifacts/cryptography-split_1672672382550/work\n",
      "cycler @ file:///home/conda/feedstock_root/build_artifacts/cycler_1635519461629/work\n",
      "Cython==0.29.17\n",
      "dask==2021.6.0\n",
      "databricks-cli @ file:///home/conda/feedstock_root/build_artifacts/databricks-cli_1670623174375/work\n",
      "dataclasses==0.6\n",
      "debugpy==1.6.6\n",
      "decorator==5.1.1\n",
      "dice-ml==0.9\n",
      "dill==0.3.6\n",
      "distributed==2021.6.0\n",
      "distro==1.8.0\n",
      "docker==6.0.1\n",
      "dotnetcore2==3.1.23\n",
      "econml==0.14.0\n",
      "entrypoints @ file:///home/conda/feedstock_root/build_artifacts/entrypoints_1643888246732/work\n",
      "ephem @ file:///home/conda/feedstock_root/build_artifacts/ephem_1671669584328/work\n",
      "erroranalysis==0.4.0\n",
      "executing==1.2.0\n",
      "fairlearn==0.8.0\n",
      "fbprophet @ file:///home/conda/feedstock_root/build_artifacts/fbprophet_1599365532360/work\n",
      "fire==0.5.0\n",
      "Flask==2.2.2\n",
      "Flask-Cors==3.0.10\n",
      "flatbuffers==23.1.21\n",
      "fonttools @ file:///home/conda/feedstock_root/build_artifacts/fonttools_1666827142353/work\n",
      "fsspec==2023.1.0\n",
      "gensim==3.8.3\n",
      "gitdb @ file:///home/conda/feedstock_root/build_artifacts/gitdb_1669279893622/work\n",
      "GitPython @ file:///home/conda/feedstock_root/build_artifacts/gitpython_1672338156505/work\n",
      "google-api-core==2.11.0\n",
      "google-auth==2.16.0\n",
      "googleapis-common-protos==1.58.0\n",
      "gunicorn==20.1.0\n",
      "h5py==3.8.0\n",
      "HeapDict==1.0.1\n",
      "holidays @ file:///home/conda/feedstock_root/build_artifacts/holidays_1595448845196/work\n",
      "humanfriendly==10.0\n",
      "idna @ file:///home/conda/feedstock_root/build_artifacts/idna_1663625384323/work\n",
      "importlib-metadata @ file:///home/conda/feedstock_root/build_artifacts/importlib-metadata_1671416996338/work\n",
      "importlib-resources==5.10.2\n",
      "inference-schema==1.5.1\n",
      "interpret-community==0.27.0\n",
      "interpret-core==0.2.7\n",
      "ipykernel==6.6.0\n",
      "ipython==8.9.0\n",
      "isodate==0.6.1\n",
      "itsdangerous==2.1.2\n",
      "jedi==0.18.2\n",
      "jeepney==0.8.0\n",
      "Jinja2==3.1.2\n",
      "jmespath @ file:///home/conda/feedstock_root/build_artifacts/jmespath_1589369830981/work\n",
      "joblib @ file:///home/conda/feedstock_root/build_artifacts/joblib_1589548394565/work\n",
      "jsonpickle==2.2.0\n",
      "jsonschema==4.17.3\n",
      "jupyter-client==7.4.9\n",
      "jupyter-core==5.2.0\n",
      "keras2onnx==1.6.0\n",
      "kiwisolver @ file:///home/conda/feedstock_root/build_artifacts/kiwisolver_1666805766046/work\n",
      "knack==0.10.1\n",
      "korean-lunar-calendar @ file:///home/conda/feedstock_root/build_artifacts/korean_lunar_calendar_1663341251025/work\n",
      "lightgbm==3.2.1\n",
      "llvmlite==0.38.1\n",
      "locket==1.0.0\n",
      "LunarCalendar==0.0.9\n",
      "MarkupSafe==2.0.1\n",
      "matplotlib @ file:///home/conda/feedstock_root/build_artifacts/matplotlib-suite_1674078821358/work\n",
      "matplotlib-inline==0.1.6\n",
      "ml-wrappers==0.2.2\n",
      "mlflow-skinny @ file:///home/conda/feedstock_root/build_artifacts/mlflow-split_1666367445718/work\n",
      "mpi4py==3.1.3\n",
      "msal==1.20.0\n",
      "msal-extensions==1.0.0\n",
      "msgpack==1.0.4\n",
      "msrest==0.7.1\n",
      "msrestazure==0.6.4\n",
      "munkres==1.1.4\n",
      "ndg-httpsclient==0.5.1\n",
      "nest-asyncio==1.5.6\n",
      "netCDF4 @ file:///home/conda/feedstock_root/build_artifacts/netcdf4_1668678829651/work\n",
      "networkx==2.5\n",
      "nimbusml==1.8.0\n",
      "numba==0.55.2\n",
      "numpy @ file:///home/conda/feedstock_root/build_artifacts/numpy_1649806303867/work\n",
      "oauthlib @ file:///home/conda/feedstock_root/build_artifacts/oauthlib_1666056362788/work\n",
      "onnx==1.12.0\n",
      "onnxconverter-common==1.6.0\n",
      "onnxmltools==1.4.1\n",
      "onnxruntime==1.11.1\n",
      "opencensus==0.11.1\n",
      "opencensus-context==0.1.3\n",
      "opencensus-ext-azure==1.1.8\n",
      "packaging @ file:///home/conda/feedstock_root/build_artifacts/packaging_1637239678211/work\n",
      "pandas==1.1.5\n",
      "paramiko==2.12.0\n",
      "parso==0.8.3\n",
      "partd==1.3.0\n",
      "pathspec==0.11.0\n",
      "patsy==0.5.3\n",
      "pexpect==4.8.0\n",
      "pickleshare==0.7.5\n",
      "Pillow @ file:///home/conda/feedstock_root/build_artifacts/pillow_1672675296857/work\n",
      "pkginfo==1.9.6\n",
      "pkgutil-resolve-name==1.3.10\n",
      "platformdirs==2.6.2\n",
      "pmdarima==1.7.1\n",
      "pooch @ file:///home/conda/feedstock_root/build_artifacts/pooch_1643032624649/work\n",
      "portalocker==2.7.0\n",
      "prompt-toolkit==3.0.36\n",
      "protobuf==3.20.1\n",
      "psutil @ file:///home/conda/feedstock_root/build_artifacts/psutil_1667885878918/work\n",
      "ptyprocess==0.7.0\n",
      "pure-eval==0.2.2\n",
      "py-cpuinfo==5.0.0\n",
      "pyarrow==9.0.0\n",
      "pyasn1==0.4.8\n",
      "pyasn1-modules==0.2.8\n",
      "pycparser @ file:///home/conda/feedstock_root/build_artifacts/pycparser_1636257122734/work\n",
      "Pygments==2.14.0\n",
      "PyJWT @ file:///home/conda/feedstock_root/build_artifacts/pyjwt_1666240235902/work\n",
      "PyMeeus @ file:///home/conda/feedstock_root/build_artifacts/pymeeus_1670868433998/work\n",
      "PyNaCl==1.5.0\n",
      "pyOpenSSL==22.1.0\n",
      "pyparsing @ file:///home/conda/feedstock_root/build_artifacts/pyparsing_1652235407899/work\n",
      "pyrsistent==0.19.3\n",
      "PySocks @ file:///home/conda/feedstock_root/build_artifacts/pysocks_1661604839144/work\n",
      "pystan @ file:///home/conda/feedstock_root/build_artifacts/pystan_1598392747715/work\n",
      "python-dateutil @ file:///home/conda/feedstock_root/build_artifacts/python-dateutil_1626286286081/work\n",
      "pytz @ file:///home/conda/feedstock_root/build_artifacts/pytz_1673864280276/work\n",
      "PyYAML @ file:///home/conda/feedstock_root/build_artifacts/pyyaml_1666772387080/work\n",
      "pyzmq==25.0.0\n",
      "raiutils==0.3.0\n",
      "requests @ file:///home/conda/feedstock_root/build_artifacts/requests_1673863902341/work\n",
      "requests-oauthlib==1.3.1\n",
      "responsibleai==0.23.0\n",
      "rsa==4.9\n",
      "s3transfer @ file:///home/conda/feedstock_root/build_artifacts/s3transfer_1618355402893/work\n",
      "scikit-learn==0.22.1\n",
      "scipy==1.5.3\n",
      "SecretStorage==3.3.3\n",
      "semver==2.13.0\n",
      "setuptools-git==1.2\n",
      "shap==0.39.0\n",
      "six @ file:///home/conda/feedstock_root/build_artifacts/six_1620240208055/work\n",
      "skl2onnx==1.4.9\n",
      "sklearn-pandas==1.7.0\n",
      "slicer==0.0.7\n",
      "smart-open==1.9.0\n",
      "smmap @ file:///home/conda/feedstock_root/build_artifacts/smmap_1611376390914/work\n",
      "sortedcontainers==2.4.0\n",
      "sparse==0.13.0\n",
      "sqlparse @ file:///home/conda/feedstock_root/build_artifacts/sqlparse_1663990453245/work\n",
      "stack-data==0.6.2\n",
      "statsmodels==0.11.1\n",
      "tabulate @ file:///home/conda/feedstock_root/build_artifacts/tabulate_1665138452165/work\n",
      "tblib==1.7.0\n",
      "termcolor==2.2.0\n",
      "toolz==0.12.0\n",
      "tornado==6.2\n",
      "tqdm @ file:///home/conda/feedstock_root/build_artifacts/tqdm_1662214488106/work\n",
      "traitlets==5.9.0\n",
      "typing-extensions @ file:///home/conda/feedstock_root/build_artifacts/typing_extensions_1665144421445/work\n",
      "unicodedata2 @ file:///home/conda/feedstock_root/build_artifacts/unicodedata2_1667239955025/work\n",
      "urllib3 @ file:///home/conda/feedstock_root/build_artifacts/urllib3_1603125704209/work\n",
      "wcwidth==0.2.6\n",
      "websocket-client==1.5.0\n",
      "Werkzeug==2.2.2\n",
      "wrapt==1.12.1\n",
      "xarray @ file:///home/conda/feedstock_root/build_artifacts/xarray_1658533631249/work\n",
      "xarray-einstats @ file:///home/conda/feedstock_root/build_artifacts/xarray-einstats_1673917909214/work\n",
      "xgboost==1.3.3\n",
      "zict==2.2.0\n",
      "zipp @ file:///home/conda/feedstock_root/build_artifacts/zipp_1674910338934/work\n",
      "\n",
      "2023-02-09T01:09:17,472206700+00:00 | gunicorn/run | \n",
      "2023-02-09T01:09:17,477006300+00:00 | gunicorn/run | ###############################################\n",
      "2023-02-09T01:09:17,481870000+00:00 | gunicorn/run | AzureML Inference Server\n",
      "2023-02-09T01:09:17,486277800+00:00 | gunicorn/run | ###############################################\n",
      "2023-02-09T01:09:17,488465600+00:00 | gunicorn/run | \n",
      "2023-02-09T01:09:21,261695321+00:00 | gunicorn/run | Starting AzureML Inference Server HTTP.\n",
      "\n",
      "Azure ML Inferencing HTTP server v0.7.7\n",
      "\n",
      "\n",
      "Server Settings\n",
      "---------------\n",
      "Entry Script Name: /var/azureml-app/main.py\n",
      "Model Directory: /var/azureml-app/azureml-models/AutoML4c70625de38/1\n",
      "Worker Count: 1\n",
      "Worker Timeout (seconds): 300\n",
      "Server Port: 31311\n",
      "Application Insights Enabled: false\n",
      "Application Insights Key: None\n",
      "Inferencing HTTP server version: azmlinfsrv/0.7.7\n",
      "CORS for the specified origins: None\n",
      "\n",
      "\n",
      "Server Routes\n",
      "---------------\n",
      "Liveness Probe: GET   127.0.0.1:31311/\n",
      "Score:          POST  127.0.0.1:31311/score\n",
      "\n",
      "Starting gunicorn 20.1.0\n",
      "Listening at: http://0.0.0.0:31311 (74)\n",
      "Using worker: sync\n",
      "Booting worker with pid: 127\n",
      "Initializing logger\n",
      "2023-02-09 01:09:23,022 | root | INFO | Starting up app insights client\n",
      "logging socket was found. logging is available.\n",
      "logging socket was found. logging is available.\n",
      "2023-02-09 01:09:23,025 | root | INFO | Starting up app insight hooks\n",
      "2023-02-09 01:09:24,437 | root | INFO | Found driver script at /var/azureml-app/main.py and the score script at /var/azureml-app/score.py\n",
      "2023-02-09 01:09:24,438 | root | INFO | run() is decorated with @input_schema. Server will invoke it with the following arguments: data, method.\n",
      "2023-02-09 01:09:24,438 | root | INFO | Invoking user's init function\n",
      "generated new fontManager\n",
      "Importing plotly failed. Interactive plots will not work.\n",
      "2023-02-09 01:09:37,073 | azureml.core | WARNING | Failure while loading azureml_run_type_providers. Failed to load entrypoint azureml.scriptrun = azureml.core.script_run:ScriptRun._from_run_dto with exception (urllib3 1.25.11 (/azureml-envs/azureml_339aac991804a6fc1abdc6b4bd0e857e/lib/python3.8/site-packages), Requirement.parse('urllib3>=1.26.0'), {'docker'}).\n",
      "Failure while loading azureml_run_type_providers. Failed to load entrypoint azureml.scriptrun = azureml.core.script_run:ScriptRun._from_run_dto with exception (urllib3 1.25.11 (/azureml-envs/azureml_339aac991804a6fc1abdc6b4bd0e857e/lib/python3.8/site-packages), Requirement.parse('urllib3>=1.26.0'), {'docker'}).\n",
      "2023-02-09 01:09:37,093 | azureml.core | WARNING | Failure while loading azureml_run_type_providers. Failed to load entrypoint azureml.PipelineRun = azureml.pipeline.core.run:PipelineRun._from_dto with exception (urllib3 1.25.11 (/azureml-envs/azureml_339aac991804a6fc1abdc6b4bd0e857e/lib/python3.8/site-packages), Requirement.parse('urllib3>=1.26.0'), {'docker'}).\n",
      "Failure while loading azureml_run_type_providers. Failed to load entrypoint azureml.PipelineRun = azureml.pipeline.core.run:PipelineRun._from_dto with exception (urllib3 1.25.11 (/azureml-envs/azureml_339aac991804a6fc1abdc6b4bd0e857e/lib/python3.8/site-packages), Requirement.parse('urllib3>=1.26.0'), {'docker'}).\n",
      "2023-02-09 01:09:37,110 | azureml.core | WARNING | Failure while loading azureml_run_type_providers. Failed to load entrypoint azureml.ReusedStepRun = azureml.pipeline.core.run:StepRun._from_reused_dto with exception (urllib3 1.25.11 (/azureml-envs/azureml_339aac991804a6fc1abdc6b4bd0e857e/lib/python3.8/site-packages), Requirement.parse('urllib3>=1.26.0'), {'docker'}).\n",
      "Failure while loading azureml_run_type_providers. Failed to load entrypoint azureml.ReusedStepRun = azureml.pipeline.core.run:StepRun._from_reused_dto with exception (urllib3 1.25.11 (/azureml-envs/azureml_339aac991804a6fc1abdc6b4bd0e857e/lib/python3.8/site-packages), Requirement.parse('urllib3>=1.26.0'), {'docker'}).\n",
      "2023-02-09 01:09:37,123 | azureml.core | WARNING | Failure while loading azureml_run_type_providers. Failed to load entrypoint azureml.StepRun = azureml.pipeline.core.run:StepRun._from_dto with exception (urllib3 1.25.11 (/azureml-envs/azureml_339aac991804a6fc1abdc6b4bd0e857e/lib/python3.8/site-packages), Requirement.parse('urllib3>=1.26.0'), {'docker'}).\n",
      "Failure while loading azureml_run_type_providers. Failed to load entrypoint azureml.StepRun = azureml.pipeline.core.run:StepRun._from_dto with exception (urllib3 1.25.11 (/azureml-envs/azureml_339aac991804a6fc1abdc6b4bd0e857e/lib/python3.8/site-packages), Requirement.parse('urllib3>=1.26.0'), {'docker'}).\n",
      "2023-02-09 01:09:37,306 | azureml.core | WARNING | Failure while loading azureml_run_type_providers. Failed to load entrypoint automl = azureml.train.automl.run:AutoMLRun._from_run_dto with exception (urllib3 1.25.11 (/azureml-envs/azureml_339aac991804a6fc1abdc6b4bd0e857e/lib/python3.8/site-packages), Requirement.parse('urllib3>=1.26.0'), {'docker'}).\n",
      "Failure while loading azureml_run_type_providers. Failed to load entrypoint automl = azureml.train.automl.run:AutoMLRun._from_run_dto with exception (urllib3 1.25.11 (/azureml-envs/azureml_339aac991804a6fc1abdc6b4bd0e857e/lib/python3.8/site-packages), Requirement.parse('urllib3>=1.26.0'), {'docker'}).\n",
      "2023-02-09 01:09:37,326 | azureml.core | WARNING | Failure while loading azureml_run_type_providers. Failed to load entrypoint hyperdrive = azureml.train.hyperdrive:HyperDriveRun._from_run_dto with exception (urllib3 1.25.11 (/azureml-envs/azureml_339aac991804a6fc1abdc6b4bd0e857e/lib/python3.8/site-packages), Requirement.parse('urllib3>=1.26.0'), {'docker'}).\n",
      "Failure while loading azureml_run_type_providers. Failed to load entrypoint hyperdrive = azureml.train.hyperdrive:HyperDriveRun._from_run_dto with exception (urllib3 1.25.11 (/azureml-envs/azureml_339aac991804a6fc1abdc6b4bd0e857e/lib/python3.8/site-packages), Requirement.parse('urllib3>=1.26.0'), {'docker'}).\n",
      "2023-02-09 01:09:40,032 | root | INFO | Users's init has completed successfully\n",
      "2023-02-09 01:09:40,036 | root | INFO | Swaggers are prepared for the following versions: [2, 3].\n",
      "2023-02-09 01:09:40,036 | root | INFO | Scoring timeout is found from os.environ: 60000 ms\n",
      "2023-02-09 01:09:40,039 | root | INFO | AML_FLASK_ONE_COMPATIBILITY is set. Patched Flask to ensure compatibility with Flask 1.\n",
      "2023-02-09 01:09:52,989 | root | INFO | 200\n",
      "127.0.0.1 - - [09/Feb/2023:01:09:52 +0000] \"GET /swagger.json HTTP/1.0\" 200 4953 \"-\" \"Go-http-client/1.1\"\n",
      "2023-02-09 01:12:41,545 | root | INFO | 200\n",
      "127.0.0.1 - - [09/Feb/2023:01:12:41 +0000] \"GET /swagger.json HTTP/1.0\" 200 4953 \"-\" \"Go-http-client/1.1\"\n",
      "2023-02-09 01:15:37,877 | root | INFO | 200\n",
      "127.0.0.1 - - [09/Feb/2023:01:15:37 +0000] \"GET /swagger.json HTTP/1.0\" 200 4953 \"-\" \"Go-http-client/1.1\"\n",
      "2023-02-09 01:15:38,697 | root | INFO | 200\n",
      "127.0.0.1 - - [09/Feb/2023:01:15:38 +0000] \"POST /score HTTP/1.0\" 200 19 \"-\" \"python-requests/2.28.1\"\n",
      "2023-02-09 01:15:39,129 | root | INFO | 200\n",
      "127.0.0.1 - - [09/Feb/2023:01:15:39 +0000] \"POST /score HTTP/1.0\" 200 19 \"-\" \"python-requests/2.28.1\"\n",
      "\n"
     ]
    }
   ],
   "source": [
    "print(service.get_logs())"
   ]
  },
  {
   "cell_type": "code",
   "execution_count": 26,
   "metadata": {
    "gather": {
     "logged": 1675907062234
    },
    "jupyter": {
     "outputs_hidden": false,
     "source_hidden": false
    },
    "nteract": {
     "transient": {
      "deleting": false
     }
    }
   },
   "outputs": [],
   "source": [
    "service.delete()"
   ]
  },
  {
   "cell_type": "markdown",
   "metadata": {},
   "source": [
    "**Submission Checklist**\n",
    "- I have registered the model.\n",
    "- I have deployed the model with the best accuracy as a webservice.\n",
    "- I have tested the webservice by sending a request to the model endpoint.\n",
    "- I have deleted the webservice and shutdown all the computes that I have used.\n",
    "- I have taken a screenshot showing the model endpoint as active.\n",
    "- The project includes a file containing the environment details.\n"
   ]
  },
  {
   "cell_type": "markdown",
   "metadata": {},
   "source": []
  }
 ],
 "metadata": {
  "kernel_info": {
   "name": "python38-azureml"
  },
  "kernelspec": {
   "display_name": "Python 3 (ipykernel)",
   "language": "python",
   "name": "python3"
  },
  "language_info": {
   "codemirror_mode": {
    "name": "ipython",
    "version": 3
   },
   "file_extension": ".py",
   "mimetype": "text/x-python",
   "name": "python",
   "nbconvert_exporter": "python",
   "pygments_lexer": "ipython3",
   "version": "3.10.9"
  },
  "microsoft": {
   "host": {
    "AzureML": {
     "notebookHasBeenCompleted": true
    }
   }
  },
  "nteract": {
   "version": "nteract-front-end@1.0.0"
  }
 },
 "nbformat": 4,
 "nbformat_minor": 2
}
